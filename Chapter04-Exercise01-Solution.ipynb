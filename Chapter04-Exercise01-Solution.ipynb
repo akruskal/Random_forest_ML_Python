{
 "cells": [
  {
   "cell_type": "markdown",
   "metadata": {},
   "source": [
    "![alt text](images/HDAT9500Banner.PNG)\n",
    "<br>\n",
    "\n",
    "# Chapter 4: Tree Based Methods\n",
    "# Exercise 01: Decision Trees and Gradient Boosting Trees\n",
    "\n",
    "\n",
    "# 1. Introduction\n",
    "\n",
    "In this exercise, we will introduce tree based methods. First, we will learn about the basic decision tree, then we will see how decision tree performance can be improved via ensemble methods - specifically, gradient descent boosting.\n",
    "\n",
    "\n",
    "## 1.1. Aims of the Exercise:\n",
    " 1. To introduce the single Decision Tree, as well as the Gradient Boosted Trees.\n",
    " 2. To explore parameters and determine appropriate choices.\n",
    "\n",
    " \n",
    "It aligns with all of the learning outcomes of our course: \n",
    "\n",
    "1.\tDistinguish a range of task specific machine learning techniques appropriate for Health Data Science.\n",
    "2.\tDesign machine learning tasks for Health Data Science scenarios.\n",
    "3.\tConstruct appropriate training and test sets for health research data.\n",
    "\n",
    "\n",
    "## 1.2. Jupyter Notebook Intructions\n",
    "1. Read the content of each cell.\n",
    "2. Where necessary, follow the instructions that are written in each cell.\n",
    "3. Run/Execute all the cells that contain Python code sequentially (one at a time), using the \"Run\" button.\n",
    "4. For those cells in which you are asked to write some code, please write the Python code first and then execute/run the cell.\n",
    " \n",
    "## 1.3. Tips\n",
    " 1. The square brackets on the left hand side of each cell indicate whether the cell has been executed or not. Empty square brackets mean that the cell has not been executed, whereas square brackets that contain a number means that the cell has been executed. Run all the cells in sequence, using the \"Run\" button.\n",
    " 2. To edit this notebook, just double-click in each cell. In the document, each cell can be a \"Code\" cell or \"text-Markdown\" cell. To choose between these two options, go to the combo-box above. \n",
    " 3. If you want to save your notebook, please make sure you press the \"floppy disk\" icon button above. \n",
    " 4. To clean the content of all cells and re-start the Notebook, please go to Cell->All Output->Clear\n"
   ]
  },
  {
   "cell_type": "markdown",
   "metadata": {},
   "source": [
    "# 2. Load the Wisconsin Cancer Data Set\n",
    "\n",
    "For data dictionary and all information:\n",
    "https://archive.ics.uci.edu/ml/datasets/Breast+Cancer+Wisconsin+(Diagnostic)"
   ]
  },
  {
   "cell_type": "code",
   "execution_count": 1,
   "metadata": {},
   "outputs": [
    {
     "name": "stdout",
     "output_type": "stream",
     "text": [
      "3.6.4 |Anaconda, Inc.| (default, Jan 16 2018, 10:22:32) [MSC v.1900 64 bit (AMD64)]\n"
     ]
    }
   ],
   "source": [
    "import sys\n",
    "print(sys.version)\n",
    "\n",
    "import numpy as np\n",
    "import pandas as pd\n",
    "from IPython.display import display\n",
    "\n",
    "from plotnine import *"
   ]
  },
  {
   "cell_type": "code",
   "execution_count": 2,
   "metadata": {},
   "outputs": [],
   "source": [
    "cancer = pd.read_csv('data/breast-cancer-wisconsin-data/data.csv', sep=',')"
   ]
  },
  {
   "cell_type": "code",
   "execution_count": 3,
   "metadata": {},
   "outputs": [
    {
     "data": {
      "text/html": [
       "<div>\n",
       "<style scoped>\n",
       "    .dataframe tbody tr th:only-of-type {\n",
       "        vertical-align: middle;\n",
       "    }\n",
       "\n",
       "    .dataframe tbody tr th {\n",
       "        vertical-align: top;\n",
       "    }\n",
       "\n",
       "    .dataframe thead th {\n",
       "        text-align: right;\n",
       "    }\n",
       "</style>\n",
       "<table border=\"1\" class=\"dataframe\">\n",
       "  <thead>\n",
       "    <tr style=\"text-align: right;\">\n",
       "      <th></th>\n",
       "      <th>id</th>\n",
       "      <th>diagnosis</th>\n",
       "      <th>radius_mean</th>\n",
       "      <th>texture_mean</th>\n",
       "      <th>perimeter_mean</th>\n",
       "      <th>area_mean</th>\n",
       "      <th>smoothness_mean</th>\n",
       "      <th>compactness_mean</th>\n",
       "      <th>concavity_mean</th>\n",
       "      <th>concave points_mean</th>\n",
       "      <th>...</th>\n",
       "      <th>radius_worst</th>\n",
       "      <th>texture_worst</th>\n",
       "      <th>perimeter_worst</th>\n",
       "      <th>area_worst</th>\n",
       "      <th>smoothness_worst</th>\n",
       "      <th>compactness_worst</th>\n",
       "      <th>concavity_worst</th>\n",
       "      <th>concave points_worst</th>\n",
       "      <th>symmetry_worst</th>\n",
       "      <th>fractal_dimension_worst</th>\n",
       "    </tr>\n",
       "  </thead>\n",
       "  <tbody>\n",
       "    <tr>\n",
       "      <th>0</th>\n",
       "      <td>842302</td>\n",
       "      <td>M</td>\n",
       "      <td>17.99</td>\n",
       "      <td>10.38</td>\n",
       "      <td>122.80</td>\n",
       "      <td>1001.0</td>\n",
       "      <td>0.11840</td>\n",
       "      <td>0.27760</td>\n",
       "      <td>0.3001</td>\n",
       "      <td>0.14710</td>\n",
       "      <td>...</td>\n",
       "      <td>25.38</td>\n",
       "      <td>17.33</td>\n",
       "      <td>184.60</td>\n",
       "      <td>2019.0</td>\n",
       "      <td>0.1622</td>\n",
       "      <td>0.6656</td>\n",
       "      <td>0.7119</td>\n",
       "      <td>0.2654</td>\n",
       "      <td>0.4601</td>\n",
       "      <td>0.11890</td>\n",
       "    </tr>\n",
       "    <tr>\n",
       "      <th>1</th>\n",
       "      <td>842517</td>\n",
       "      <td>M</td>\n",
       "      <td>20.57</td>\n",
       "      <td>17.77</td>\n",
       "      <td>132.90</td>\n",
       "      <td>1326.0</td>\n",
       "      <td>0.08474</td>\n",
       "      <td>0.07864</td>\n",
       "      <td>0.0869</td>\n",
       "      <td>0.07017</td>\n",
       "      <td>...</td>\n",
       "      <td>24.99</td>\n",
       "      <td>23.41</td>\n",
       "      <td>158.80</td>\n",
       "      <td>1956.0</td>\n",
       "      <td>0.1238</td>\n",
       "      <td>0.1866</td>\n",
       "      <td>0.2416</td>\n",
       "      <td>0.1860</td>\n",
       "      <td>0.2750</td>\n",
       "      <td>0.08902</td>\n",
       "    </tr>\n",
       "    <tr>\n",
       "      <th>2</th>\n",
       "      <td>84300903</td>\n",
       "      <td>M</td>\n",
       "      <td>19.69</td>\n",
       "      <td>21.25</td>\n",
       "      <td>130.00</td>\n",
       "      <td>1203.0</td>\n",
       "      <td>0.10960</td>\n",
       "      <td>0.15990</td>\n",
       "      <td>0.1974</td>\n",
       "      <td>0.12790</td>\n",
       "      <td>...</td>\n",
       "      <td>23.57</td>\n",
       "      <td>25.53</td>\n",
       "      <td>152.50</td>\n",
       "      <td>1709.0</td>\n",
       "      <td>0.1444</td>\n",
       "      <td>0.4245</td>\n",
       "      <td>0.4504</td>\n",
       "      <td>0.2430</td>\n",
       "      <td>0.3613</td>\n",
       "      <td>0.08758</td>\n",
       "    </tr>\n",
       "    <tr>\n",
       "      <th>3</th>\n",
       "      <td>84348301</td>\n",
       "      <td>M</td>\n",
       "      <td>11.42</td>\n",
       "      <td>20.38</td>\n",
       "      <td>77.58</td>\n",
       "      <td>386.1</td>\n",
       "      <td>0.14250</td>\n",
       "      <td>0.28390</td>\n",
       "      <td>0.2414</td>\n",
       "      <td>0.10520</td>\n",
       "      <td>...</td>\n",
       "      <td>14.91</td>\n",
       "      <td>26.50</td>\n",
       "      <td>98.87</td>\n",
       "      <td>567.7</td>\n",
       "      <td>0.2098</td>\n",
       "      <td>0.8663</td>\n",
       "      <td>0.6869</td>\n",
       "      <td>0.2575</td>\n",
       "      <td>0.6638</td>\n",
       "      <td>0.17300</td>\n",
       "    </tr>\n",
       "    <tr>\n",
       "      <th>4</th>\n",
       "      <td>84358402</td>\n",
       "      <td>M</td>\n",
       "      <td>20.29</td>\n",
       "      <td>14.34</td>\n",
       "      <td>135.10</td>\n",
       "      <td>1297.0</td>\n",
       "      <td>0.10030</td>\n",
       "      <td>0.13280</td>\n",
       "      <td>0.1980</td>\n",
       "      <td>0.10430</td>\n",
       "      <td>...</td>\n",
       "      <td>22.54</td>\n",
       "      <td>16.67</td>\n",
       "      <td>152.20</td>\n",
       "      <td>1575.0</td>\n",
       "      <td>0.1374</td>\n",
       "      <td>0.2050</td>\n",
       "      <td>0.4000</td>\n",
       "      <td>0.1625</td>\n",
       "      <td>0.2364</td>\n",
       "      <td>0.07678</td>\n",
       "    </tr>\n",
       "  </tbody>\n",
       "</table>\n",
       "<p>5 rows × 32 columns</p>\n",
       "</div>"
      ],
      "text/plain": [
       "         id diagnosis  radius_mean  texture_mean  perimeter_mean  area_mean  \\\n",
       "0    842302         M        17.99         10.38          122.80     1001.0   \n",
       "1    842517         M        20.57         17.77          132.90     1326.0   \n",
       "2  84300903         M        19.69         21.25          130.00     1203.0   \n",
       "3  84348301         M        11.42         20.38           77.58      386.1   \n",
       "4  84358402         M        20.29         14.34          135.10     1297.0   \n",
       "\n",
       "   smoothness_mean  compactness_mean  concavity_mean  concave points_mean  \\\n",
       "0          0.11840           0.27760          0.3001              0.14710   \n",
       "1          0.08474           0.07864          0.0869              0.07017   \n",
       "2          0.10960           0.15990          0.1974              0.12790   \n",
       "3          0.14250           0.28390          0.2414              0.10520   \n",
       "4          0.10030           0.13280          0.1980              0.10430   \n",
       "\n",
       "            ...             radius_worst  texture_worst  perimeter_worst  \\\n",
       "0           ...                    25.38          17.33           184.60   \n",
       "1           ...                    24.99          23.41           158.80   \n",
       "2           ...                    23.57          25.53           152.50   \n",
       "3           ...                    14.91          26.50            98.87   \n",
       "4           ...                    22.54          16.67           152.20   \n",
       "\n",
       "   area_worst  smoothness_worst  compactness_worst  concavity_worst  \\\n",
       "0      2019.0            0.1622             0.6656           0.7119   \n",
       "1      1956.0            0.1238             0.1866           0.2416   \n",
       "2      1709.0            0.1444             0.4245           0.4504   \n",
       "3       567.7            0.2098             0.8663           0.6869   \n",
       "4      1575.0            0.1374             0.2050           0.4000   \n",
       "\n",
       "   concave points_worst  symmetry_worst  fractal_dimension_worst  \n",
       "0                0.2654          0.4601                  0.11890  \n",
       "1                0.1860          0.2750                  0.08902  \n",
       "2                0.2430          0.3613                  0.08758  \n",
       "3                0.2575          0.6638                  0.17300  \n",
       "4                0.1625          0.2364                  0.07678  \n",
       "\n",
       "[5 rows x 32 columns]"
      ]
     },
     "metadata": {},
     "output_type": "display_data"
    },
    {
     "name": "stdout",
     "output_type": "stream",
     "text": [
      "(569, 32)\n"
     ]
    }
   ],
   "source": [
    "# Sanity Check:\n",
    "display(cancer[:][:5])\n",
    "print(cancer.shape)"
   ]
  },
  {
   "cell_type": "code",
   "execution_count": 4,
   "metadata": {
    "scrolled": true
   },
   "outputs": [
    {
     "data": {
      "text/plain": [
       "id                           int64\n",
       "diagnosis                   object\n",
       "radius_mean                float64\n",
       "texture_mean               float64\n",
       "perimeter_mean             float64\n",
       "area_mean                  float64\n",
       "smoothness_mean            float64\n",
       "compactness_mean           float64\n",
       "concavity_mean             float64\n",
       "concave points_mean        float64\n",
       "symmetry_mean              float64\n",
       "fractal_dimension_mean     float64\n",
       "radius_se                  float64\n",
       "texture_se                 float64\n",
       "perimeter_se               float64\n",
       "area_se                    float64\n",
       "smoothness_se              float64\n",
       "compactness_se             float64\n",
       "concavity_se               float64\n",
       "concave points_se          float64\n",
       "symmetry_se                float64\n",
       "fractal_dimension_se       float64\n",
       "radius_worst               float64\n",
       "texture_worst              float64\n",
       "perimeter_worst            float64\n",
       "area_worst                 float64\n",
       "smoothness_worst           float64\n",
       "compactness_worst          float64\n",
       "concavity_worst            float64\n",
       "concave points_worst       float64\n",
       "symmetry_worst             float64\n",
       "fractal_dimension_worst    float64\n",
       "dtype: object"
      ]
     },
     "execution_count": 4,
     "metadata": {},
     "output_type": "execute_result"
    }
   ],
   "source": [
    "cancer.dtypes"
   ]
  },
  {
   "cell_type": "markdown",
   "metadata": {},
   "source": [
    "## 2.1.Split the data into features and response"
   ]
  },
  {
   "cell_type": "code",
   "execution_count": 5,
   "metadata": {},
   "outputs": [],
   "source": [
    "X = cancer.drop(axis=1, columns=['id', 'diagnosis'])\n",
    "y = cancer[['diagnosis']].values"
   ]
  },
  {
   "cell_type": "code",
   "execution_count": 6,
   "metadata": {
    "scrolled": true
   },
   "outputs": [],
   "source": [
    "# Sanity check\n",
    "# display(X[:][:5])\n",
    "# display(y[:][:5])"
   ]
  },
  {
   "cell_type": "markdown",
   "metadata": {},
   "source": [
    "## 2.2. Split the data into training and test sets"
   ]
  },
  {
   "cell_type": "code",
   "execution_count": 7,
   "metadata": {},
   "outputs": [],
   "source": [
    "from sklearn.model_selection import train_test_split\n",
    "X_train, X_test, y_train, y_test = train_test_split(X, y, stratify=y, random_state=0, test_size = 0.20)"
   ]
  },
  {
   "cell_type": "markdown",
   "metadata": {},
   "source": [
    "# 3. Decision Trees\n",
    "Decision Trees involve segmenting the feature space (the space of our predictor variables) into a number of different regions. The method can be used for both regression (predicting numeric response variable) and classification (classifying a categorical response variable). As the set of splitting rules used to segment the feature space can be summarized into a hierarchy of if/else statements in the form of a tree, these types of approaches are known as decision tree methods.<p>\n",
    "    In the case of **regression**, in order to make a prediction for any particular observation, we usually use the mean of the training observations in the region to which it belongs. For **classification**, we usually use the mode of the training observations in the region to which the data point belongs. Recall that the mode is the most frequent element. So, *for classification we predict that each observation belongs to the most commonly occurring class of training observations in the region to which it belongs*.<p>\n",
    "        We will use tree methods to predict cancer diagnosis, which is a classification task."
   ]
  },
  {
   "cell_type": "markdown",
   "metadata": {},
   "source": [
    "## 3.1. Growing a simple decision tree\n",
    "Beginning with what is known as the *root node*, the node containing the entire dataset, we split the data based on the feature that provides the most information about the response variable. The split is achieved by using a *test*. The form of the test depends on the data type of the chosen feature.\n",
    "* If the feature of choice is continuous, the test will be of the form $X_i > a$, where $a$ is some constant. In other words, the tests that are used on continuous data are of the form 'is feature i larger than the value a?'. \n",
    "* If the feature is categorical, the test will be $X_i = c$, where $c$ is one of the levels of the categorical variable. In other words, the tests that are used on categorical data are of the form 'is feature i of the same level as c?'. <p>\n",
    "    \n",
    "After assessing the test, the result will be two *children nodes*, one node being for all the data that satisfy the root node test and one node for all data points that do not satisfy the root node test.<p>\n",
    "    We then continue this process of finding informative rules and splitting the data. Resulting in a tree of nodes. The nodes in which we assign a value to the given observations are known as *leaf nodes*. "
   ]
  },
  {
   "cell_type": "markdown",
   "metadata": {},
   "source": [
    "## 3.2. Avoiding overfitting - pruning the tree\n",
    "If we allow the process of testing and splitting to continue indefinitely, we will have a tree with every leaf node being *pure*. *Pure* means that there are only data points of a single class label in the final leaf node. More often than not, such a tree will be very complex and highly overfitted to the training data. There are two common methods to prevent overfitting:\n",
    "1. **Pre-pruning**: Preventing overfitting before the creation of the tree. Common criteria for pre-pruning includes limiting the maximum depth of the tree, limiting the maximum number of leaves, or placing a minimum size constraint on the nodes that must be satisfied for a split to occur.\n",
    "2. **Post-pruning**: Removing overfitted leaf nodes after the creation of the tree. This is commonly referred to as \"pruning\". <p>\n",
    "    \n",
    "Decision trees in scikit-learn are implemented in the **DecisionTreeRegressor** and **DecisionTreeClassifier** classes. **scikit-learn** only implements pre-pruning, not post-pruning."
   ]
  },
  {
   "cell_type": "markdown",
   "metadata": {},
   "source": [
    "## 3.3. Create a decision tree with no pruning\n",
    "\n",
    "We will create a decision tree with no pruning. We will see that some of the nodes will have only 1 sample. "
   ]
  },
  {
   "cell_type": "code",
   "execution_count": 8,
   "metadata": {},
   "outputs": [],
   "source": [
    "from sklearn import tree\n",
    "from sklearn.tree import DecisionTreeClassifier"
   ]
  },
  {
   "cell_type": "code",
   "execution_count": 9,
   "metadata": {},
   "outputs": [
    {
     "data": {
      "text/plain": [
       "DecisionTreeClassifier(class_weight=None, criterion='gini', max_depth=None,\n",
       "            max_features=None, max_leaf_nodes=None,\n",
       "            min_impurity_decrease=0.0, min_impurity_split=None,\n",
       "            min_samples_leaf=1, min_samples_split=2,\n",
       "            min_weight_fraction_leaf=0.0, presort=False, random_state=0,\n",
       "            splitter='best')"
      ]
     },
     "execution_count": 9,
     "metadata": {},
     "output_type": "execute_result"
    }
   ],
   "source": [
    "simple_decision_tree = DecisionTreeClassifier(random_state=0)\n",
    "simple_decision_tree.fit(X_train, y_train)"
   ]
  },
  {
   "cell_type": "code",
   "execution_count": 10,
   "metadata": {},
   "outputs": [
    {
     "name": "stdout",
     "output_type": "stream",
     "text": [
      "Accuracy on training set: 1.000\n",
      "Accuracy on test set: 0.930\n"
     ]
    }
   ],
   "source": [
    "print(\"Accuracy on training set: {:.3f}\".format(simple_decision_tree.score(X_train, y_train))) \n",
    "print(\"Accuracy on test set: {:.3f}\".format(simple_decision_tree.score(X_test, y_test)))"
   ]
  },
  {
   "cell_type": "markdown",
   "metadata": {},
   "source": [
    "### 3.3.1 Confusion Matrix"
   ]
  },
  {
   "cell_type": "markdown",
   "metadata": {},
   "source": [
    "![alt text](images/Confusion_matrix.PNG)"
   ]
  },
  {
   "cell_type": "code",
   "execution_count": 11,
   "metadata": {},
   "outputs": [
    {
     "name": "stdout",
     "output_type": "stream",
     "text": [
      "[[41  1]\n",
      " [ 7 65]]\n"
     ]
    },
    {
     "data": {
      "image/png": "[encoded data removed]",
      "text/plain": [
       "<matplotlib.figure.Figure at 0x18ed90f46a0>"
      ]
     },
     "metadata": {
      "needs_background": "light"
     },
     "output_type": "display_data"
    }
   ],
   "source": [
    "from sklearn.metrics import confusion_matrix\n",
    "cancer_labels = ['M', 'B']\n",
    "y_pred = simple_decision_tree.predict(X_test)\n",
    "cm = confusion_matrix(y_true = y_test, y_pred = y_pred, labels=cancer_labels)\n",
    "print(cm)\n",
    "\n",
    "import matplotlib.pyplot as plt\n",
    "fig = plt.figure()\n",
    "ax = fig.add_subplot(111)\n",
    "cax = ax.matshow(cm)\n",
    "plt.title('Confusion matrix of the classifier')\n",
    "fig.colorbar(cax)\n",
    "ax.set_xticklabels([''] + cancer_labels)\n",
    "ax.set_yticklabels([''] + cancer_labels)\n",
    "plt.xlabel('Predicted class')\n",
    "plt.ylabel('True class')\n",
    "plt.show()"
   ]
  },
  {
   "cell_type": "code",
   "execution_count": 12,
   "metadata": {},
   "outputs": [
    {
     "name": "stdout",
     "output_type": "stream",
     "text": [
      "             precision    recall  f1-score   support\n",
      "\n",
      "          B       0.98      0.90      0.94        72\n",
      "          M       0.85      0.98      0.91        42\n",
      "\n",
      "avg / total       0.94      0.93      0.93       114\n",
      "\n"
     ]
    }
   ],
   "source": [
    "from sklearn.metrics import classification_report\n",
    "print(classification_report(y_test, y_pred))"
   ]
  },
  {
   "cell_type": "markdown",
   "metadata": {},
   "source": [
    "### 3.3.2 Visualization"
   ]
  },
  {
   "cell_type": "markdown",
   "metadata": {},
   "source": [
    "The next lines of code might not work if you don't have graphviz installed in your computer:\n",
    "\n",
    "For Windows:\n",
    "\n",
    "1. Install windows package from: https://graphviz.gitlab.io/_pages/Download/Download_windows.html\n",
    "2. Install python graphviz package \n",
    "    !pip install graphviz \n",
    "    or\n",
    "    !conda install graphviz\n",
    "3. Add C:\\Program Files (x86)\\Graphviz2.38\\bin to User path\n",
    "4. Add C:\\Program Files (x86)\\Graphviz2.38\\bin\\dot.exe to System Path\n",
    "\n",
    "For Mac:\n",
    "\n",
    "1. MacPorts* provides both stable and development versions of Graphviz and the Mac GUI Graphviz.app. These can be obtained via the ports “graphviz”, “graphviz-devel”, “graphviz-gui” and “graphviz-gui-devel”: https://www.macports.org/\n",
    "2. Homebrew* has a Graphviz port: https://brew.sh/\n"
   ]
  },
  {
   "cell_type": "code",
   "execution_count": 13,
   "metadata": {},
   "outputs": [
    {
     "data": {
      "image/svg+xml": [
       "<?xml version=\"1.0\" encoding=\"UTF-8\" standalone=\"no\"?>\r\n",
       "<!DOCTYPE svg PUBLIC \"-//W3C//DTD SVG 1.1//EN\"\r\n",
       " \"http://www.w3.org/Graphics/SVG/1.1/DTD/svg11.dtd\">\r\n",
       "<!-- Generated by graphviz version 2.38.0 (20140413.2041)\r\n",
       " -->\r\n",
       "<!-- Title: Tree Pages: 1 -->\r\n",
       "<svg width=\"1773pt\" height=\"789pt\"\r\n",
       " viewBox=\"0.00 0.00 1773.00 789.00\" xmlns=\"http://www.w3.org/2000/svg\" xmlns:xlink=\"http://www.w3.org/1999/xlink\">\r\n",
       "<g id=\"graph0\" class=\"graph\" transform=\"scale(1 1) rotate(0) translate(4 785)\">\r\n",
       "<title>Tree</title>\r\n",
       "<polygon fill=\"white\" stroke=\"none\" points=\"-4,4 -4,-785 1769,-785 1769,4 -4,4\"/>\r\n",
       "<!-- 0 -->\r\n",
       "<g id=\"node1\" class=\"node\"><title>0</title>\r\n",
       "<polygon fill=\"#e58139\" fill-opacity=\"0.403922\" stroke=\"black\" points=\"985,-781 792,-781 792,-713 985,-713 985,-781\"/>\r\n",
       "<text text-anchor=\"middle\" x=\"888.5\" y=\"-765.8\" font-family=\"Times New Roman,serif\" font-size=\"14.00\">concave points_mean &lt;= 0.049</text>\r\n",
       "<text text-anchor=\"middle\" x=\"888.5\" y=\"-750.8\" font-family=\"Times New Roman,serif\" font-size=\"14.00\">samples = 455</text>\r\n",
       "<text text-anchor=\"middle\" x=\"888.5\" y=\"-735.8\" font-family=\"Times New Roman,serif\" font-size=\"14.00\">value = [285, 170]</text>\r\n",
       "<text text-anchor=\"middle\" x=\"888.5\" y=\"-720.8\" font-family=\"Times New Roman,serif\" font-size=\"14.00\">class = malignant</text>\r\n",
       "</g>\r\n",
       "<!-- 1 -->\r\n",
       "<g id=\"node2\" class=\"node\"><title>1</title>\r\n",
       "<polygon fill=\"#e58139\" fill-opacity=\"0.945098\" stroke=\"black\" points=\"835.5,-677 691.5,-677 691.5,-609 835.5,-609 835.5,-677\"/>\r\n",
       "<text text-anchor=\"middle\" x=\"763.5\" y=\"-661.8\" font-family=\"Times New Roman,serif\" font-size=\"14.00\">radius_worst &lt;= 16.83</text>\r\n",
       "<text text-anchor=\"middle\" x=\"763.5\" y=\"-646.8\" font-family=\"Times New Roman,serif\" font-size=\"14.00\">samples = 280</text>\r\n",
       "<text text-anchor=\"middle\" x=\"763.5\" y=\"-631.8\" font-family=\"Times New Roman,serif\" font-size=\"14.00\">value = [265, 15]</text>\r\n",
       "<text text-anchor=\"middle\" x=\"763.5\" y=\"-616.8\" font-family=\"Times New Roman,serif\" font-size=\"14.00\">class = malignant</text>\r\n",
       "</g>\r\n",
       "<!-- 0&#45;&gt;1 -->\r\n",
       "<g id=\"edge1\" class=\"edge\"><title>0&#45;&gt;1</title>\r\n",
       "<path fill=\"none\" stroke=\"black\" d=\"M847.916,-712.884C836.564,-703.62 824.106,-693.455 812.33,-683.845\"/>\r\n",
       "<polygon fill=\"black\" stroke=\"black\" points=\"814.269,-680.91 804.308,-677.299 809.843,-686.333 814.269,-680.91\"/>\r\n",
       "<text text-anchor=\"middle\" x=\"806.828\" y=\"-698.472\" font-family=\"Times New Roman,serif\" font-size=\"14.00\">True</text>\r\n",
       "</g>\r\n",
       "<!-- 18 -->\r\n",
       "<g id=\"node19\" class=\"node\"><title>18</title>\r\n",
       "<polygon fill=\"#399de5\" fill-opacity=\"0.870588\" stroke=\"black\" points=\"1096.5,-677 932.5,-677 932.5,-609 1096.5,-609 1096.5,-677\"/>\r\n",
       "<text text-anchor=\"middle\" x=\"1014.5\" y=\"-661.8\" font-family=\"Times New Roman,serif\" font-size=\"14.00\">concavity_worst &lt;= 0.224</text>\r\n",
       "<text text-anchor=\"middle\" x=\"1014.5\" y=\"-646.8\" font-family=\"Times New Roman,serif\" font-size=\"14.00\">samples = 175</text>\r\n",
       "<text text-anchor=\"middle\" x=\"1014.5\" y=\"-631.8\" font-family=\"Times New Roman,serif\" font-size=\"14.00\">value = [20, 155]</text>\r\n",
       "<text text-anchor=\"middle\" x=\"1014.5\" y=\"-616.8\" font-family=\"Times New Roman,serif\" font-size=\"14.00\">class = benign</text>\r\n",
       "</g>\r\n",
       "<!-- 0&#45;&gt;18 -->\r\n",
       "<g id=\"edge18\" class=\"edge\"><title>0&#45;&gt;18</title>\r\n",
       "<path fill=\"none\" stroke=\"black\" d=\"M929.409,-712.884C940.852,-703.62 953.409,-693.455 965.279,-683.845\"/>\r\n",
       "<polygon fill=\"black\" stroke=\"black\" points=\"967.795,-686.312 973.365,-677.299 963.391,-680.871 967.795,-686.312\"/>\r\n",
       "<text text-anchor=\"middle\" x=\"970.748\" y=\"-698.462\" font-family=\"Times New Roman,serif\" font-size=\"14.00\">False</text>\r\n",
       "</g>\r\n",
       "<!-- 2 -->\r\n",
       "<g id=\"node3\" class=\"node\"><title>2</title>\r\n",
       "<polygon fill=\"#e58139\" fill-opacity=\"0.984314\" stroke=\"black\" points=\"575,-573 462,-573 462,-505 575,-505 575,-573\"/>\r\n",
       "<text text-anchor=\"middle\" x=\"518.5\" y=\"-557.8\" font-family=\"Times New Roman,serif\" font-size=\"14.00\">area_se &lt;= 48.7</text>\r\n",
       "<text text-anchor=\"middle\" x=\"518.5\" y=\"-542.8\" font-family=\"Times New Roman,serif\" font-size=\"14.00\">samples = 262</text>\r\n",
       "<text text-anchor=\"middle\" x=\"518.5\" y=\"-527.8\" font-family=\"Times New Roman,serif\" font-size=\"14.00\">value = [258, 4]</text>\r\n",
       "<text text-anchor=\"middle\" x=\"518.5\" y=\"-512.8\" font-family=\"Times New Roman,serif\" font-size=\"14.00\">class = malignant</text>\r\n",
       "</g>\r\n",
       "<!-- 1&#45;&gt;2 -->\r\n",
       "<g id=\"edge2\" class=\"edge\"><title>1&#45;&gt;2</title>\r\n",
       "<path fill=\"none\" stroke=\"black\" d=\"M691.317,-611.948C657.53,-597.882 617.561,-581.242 584.576,-567.509\"/>\r\n",
       "<polygon fill=\"black\" stroke=\"black\" points=\"585.602,-564.145 575.025,-563.533 582.912,-570.608 585.602,-564.145\"/>\r\n",
       "</g>\r\n",
       "<!-- 13 -->\r\n",
       "<g id=\"node14\" class=\"node\"><title>13</title>\r\n",
       "<polygon fill=\"#399de5\" fill-opacity=\"0.364706\" stroke=\"black\" points=\"836.5,-573 690.5,-573 690.5,-505 836.5,-505 836.5,-573\"/>\r\n",
       "<text text-anchor=\"middle\" x=\"763.5\" y=\"-557.8\" font-family=\"Times New Roman,serif\" font-size=\"14.00\">texture_mean &lt;= 16.19</text>\r\n",
       "<text text-anchor=\"middle\" x=\"763.5\" y=\"-542.8\" font-family=\"Times New Roman,serif\" font-size=\"14.00\">samples = 18</text>\r\n",
       "<text text-anchor=\"middle\" x=\"763.5\" y=\"-527.8\" font-family=\"Times New Roman,serif\" font-size=\"14.00\">value = [7, 11]</text>\r\n",
       "<text text-anchor=\"middle\" x=\"763.5\" y=\"-512.8\" font-family=\"Times New Roman,serif\" font-size=\"14.00\">class = benign</text>\r\n",
       "</g>\r\n",
       "<!-- 1&#45;&gt;13 -->\r\n",
       "<g id=\"edge13\" class=\"edge\"><title>1&#45;&gt;13</title>\r\n",
       "<path fill=\"none\" stroke=\"black\" d=\"M763.5,-608.884C763.5,-600.778 763.5,-591.982 763.5,-583.472\"/>\r\n",
       "<polygon fill=\"black\" stroke=\"black\" points=\"767,-583.299 763.5,-573.299 760,-583.299 767,-583.299\"/>\r\n",
       "</g>\r\n",
       "<!-- 3 -->\r\n",
       "<g id=\"node4\" class=\"node\"><title>3</title>\r\n",
       "<polygon fill=\"#e58139\" fill-opacity=\"0.992157\" stroke=\"black\" points=\"409,-469 232,-469 232,-401 409,-401 409,-469\"/>\r\n",
       "<text text-anchor=\"middle\" x=\"320.5\" y=\"-453.8\" font-family=\"Times New Roman,serif\" font-size=\"14.00\">smoothness_worst &lt;= 0.176</text>\r\n",
       "<text text-anchor=\"middle\" x=\"320.5\" y=\"-438.8\" font-family=\"Times New Roman,serif\" font-size=\"14.00\">samples = 259</text>\r\n",
       "<text text-anchor=\"middle\" x=\"320.5\" y=\"-423.8\" font-family=\"Times New Roman,serif\" font-size=\"14.00\">value = [257, 2]</text>\r\n",
       "<text text-anchor=\"middle\" x=\"320.5\" y=\"-408.8\" font-family=\"Times New Roman,serif\" font-size=\"14.00\">class = malignant</text>\r\n",
       "</g>\r\n",
       "<!-- 2&#45;&gt;3 -->\r\n",
       "<g id=\"edge3\" class=\"edge\"><title>2&#45;&gt;3</title>\r\n",
       "<path fill=\"none\" stroke=\"black\" d=\"M461.761,-508.771C440.569,-497.854 416.196,-485.298 393.727,-473.723\"/>\r\n",
       "<polygon fill=\"black\" stroke=\"black\" points=\"395.054,-470.47 384.562,-469.001 391.849,-476.692 395.054,-470.47\"/>\r\n",
       "</g>\r\n",
       "<!-- 10 -->\r\n",
       "<g id=\"node11\" class=\"node\"><title>10</title>\r\n",
       "<polygon fill=\"#399de5\" fill-opacity=\"0.498039\" stroke=\"black\" points=\"609.5,-469 427.5,-469 427.5,-401 609.5,-401 609.5,-469\"/>\r\n",
       "<text text-anchor=\"middle\" x=\"518.5\" y=\"-453.8\" font-family=\"Times New Roman,serif\" font-size=\"14.00\">compactness_mean &lt;= 0.063</text>\r\n",
       "<text text-anchor=\"middle\" x=\"518.5\" y=\"-438.8\" font-family=\"Times New Roman,serif\" font-size=\"14.00\">samples = 3</text>\r\n",
       "<text text-anchor=\"middle\" x=\"518.5\" y=\"-423.8\" font-family=\"Times New Roman,serif\" font-size=\"14.00\">value = [1, 2]</text>\r\n",
       "<text text-anchor=\"middle\" x=\"518.5\" y=\"-408.8\" font-family=\"Times New Roman,serif\" font-size=\"14.00\">class = benign</text>\r\n",
       "</g>\r\n",
       "<!-- 2&#45;&gt;10 -->\r\n",
       "<g id=\"edge10\" class=\"edge\"><title>2&#45;&gt;10</title>\r\n",
       "<path fill=\"none\" stroke=\"black\" d=\"M518.5,-504.884C518.5,-496.778 518.5,-487.982 518.5,-479.472\"/>\r\n",
       "<polygon fill=\"black\" stroke=\"black\" points=\"522,-479.299 518.5,-469.299 515,-479.299 522,-479.299\"/>\r\n",
       "</g>\r\n",
       "<!-- 4 -->\r\n",
       "<g id=\"node5\" class=\"node\"><title>4</title>\r\n",
       "<polygon fill=\"#e58139\" fill-opacity=\"0.996078\" stroke=\"black\" points=\"274.5,-365 116.5,-365 116.5,-297 274.5,-297 274.5,-365\"/>\r\n",
       "<text text-anchor=\"middle\" x=\"195.5\" y=\"-349.8\" font-family=\"Times New Roman,serif\" font-size=\"14.00\">smoothness_se &lt;= 0.003</text>\r\n",
       "<text text-anchor=\"middle\" x=\"195.5\" y=\"-334.8\" font-family=\"Times New Roman,serif\" font-size=\"14.00\">samples = 258</text>\r\n",
       "<text text-anchor=\"middle\" x=\"195.5\" y=\"-319.8\" font-family=\"Times New Roman,serif\" font-size=\"14.00\">value = [257, 1]</text>\r\n",
       "<text text-anchor=\"middle\" x=\"195.5\" y=\"-304.8\" font-family=\"Times New Roman,serif\" font-size=\"14.00\">class = malignant</text>\r\n",
       "</g>\r\n",
       "<!-- 3&#45;&gt;4 -->\r\n",
       "<g id=\"edge4\" class=\"edge\"><title>3&#45;&gt;4</title>\r\n",
       "<path fill=\"none\" stroke=\"black\" d=\"M279.916,-400.884C268.564,-391.62 256.106,-381.455 244.33,-371.845\"/>\r\n",
       "<polygon fill=\"black\" stroke=\"black\" points=\"246.269,-368.91 236.308,-365.299 241.843,-374.333 246.269,-368.91\"/>\r\n",
       "</g>\r\n",
       "<!-- 9 -->\r\n",
       "<g id=\"node10\" class=\"node\"><title>9</title>\r\n",
       "<polygon fill=\"#399de5\" stroke=\"black\" points=\"390,-357.5 293,-357.5 293,-304.5 390,-304.5 390,-357.5\"/>\r\n",
       "<text text-anchor=\"middle\" x=\"341.5\" y=\"-342.3\" font-family=\"Times New Roman,serif\" font-size=\"14.00\">samples = 1</text>\r\n",
       "<text text-anchor=\"middle\" x=\"341.5\" y=\"-327.3\" font-family=\"Times New Roman,serif\" font-size=\"14.00\">value = [0, 1]</text>\r\n",
       "<text text-anchor=\"middle\" x=\"341.5\" y=\"-312.3\" font-family=\"Times New Roman,serif\" font-size=\"14.00\">class = benign</text>\r\n",
       "</g>\r\n",
       "<!-- 3&#45;&gt;9 -->\r\n",
       "<g id=\"edge9\" class=\"edge\"><title>3&#45;&gt;9</title>\r\n",
       "<path fill=\"none\" stroke=\"black\" d=\"M327.318,-400.884C329.514,-390.216 331.957,-378.352 334.187,-367.519\"/>\r\n",
       "<polygon fill=\"black\" stroke=\"black\" points=\"337.657,-368.02 336.246,-357.52 330.801,-366.609 337.657,-368.02\"/>\r\n",
       "</g>\r\n",
       "<!-- 5 -->\r\n",
       "<g id=\"node6\" class=\"node\"><title>5</title>\r\n",
       "<polygon fill=\"#e58139\" fill-opacity=\"0.831373\" stroke=\"black\" points=\"199.5,-261 35.5,-261 35.5,-193 199.5,-193 199.5,-261\"/>\r\n",
       "<text text-anchor=\"middle\" x=\"117.5\" y=\"-245.8\" font-family=\"Times New Roman,serif\" font-size=\"14.00\">concavity_worst &lt;= 0.195</text>\r\n",
       "<text text-anchor=\"middle\" x=\"117.5\" y=\"-230.8\" font-family=\"Times New Roman,serif\" font-size=\"14.00\">samples = 7</text>\r\n",
       "<text text-anchor=\"middle\" x=\"117.5\" y=\"-215.8\" font-family=\"Times New Roman,serif\" font-size=\"14.00\">value = [6, 1]</text>\r\n",
       "<text text-anchor=\"middle\" x=\"117.5\" y=\"-200.8\" font-family=\"Times New Roman,serif\" font-size=\"14.00\">class = malignant</text>\r\n",
       "</g>\r\n",
       "<!-- 4&#45;&gt;5 -->\r\n",
       "<g id=\"edge5\" class=\"edge\"><title>4&#45;&gt;5</title>\r\n",
       "<path fill=\"none\" stroke=\"black\" d=\"M170.176,-296.884C163.5,-288.154 156.213,-278.625 149.246,-269.514\"/>\r\n",
       "<polygon fill=\"black\" stroke=\"black\" points=\"151.819,-267.117 142.964,-261.299 146.258,-271.369 151.819,-267.117\"/>\r\n",
       "</g>\r\n",
       "<!-- 8 -->\r\n",
       "<g id=\"node9\" class=\"node\"><title>8</title>\r\n",
       "<polygon fill=\"#e58139\" stroke=\"black\" points=\"331,-253.5 218,-253.5 218,-200.5 331,-200.5 331,-253.5\"/>\r\n",
       "<text text-anchor=\"middle\" x=\"274.5\" y=\"-238.3\" font-family=\"Times New Roman,serif\" font-size=\"14.00\">samples = 251</text>\r\n",
       "<text text-anchor=\"middle\" x=\"274.5\" y=\"-223.3\" font-family=\"Times New Roman,serif\" font-size=\"14.00\">value = [251, 0]</text>\r\n",
       "<text text-anchor=\"middle\" x=\"274.5\" y=\"-208.3\" font-family=\"Times New Roman,serif\" font-size=\"14.00\">class = malignant</text>\r\n",
       "</g>\r\n",
       "<!-- 4&#45;&gt;8 -->\r\n",
       "<g id=\"edge8\" class=\"edge\"><title>4&#45;&gt;8</title>\r\n",
       "<path fill=\"none\" stroke=\"black\" d=\"M221.149,-296.884C229.923,-285.556 239.74,-272.88 248.538,-261.521\"/>\r\n",
       "<polygon fill=\"black\" stroke=\"black\" points=\"251.378,-263.569 254.735,-253.52 245.844,-259.283 251.378,-263.569\"/>\r\n",
       "</g>\r\n",
       "<!-- 6 -->\r\n",
       "<g id=\"node7\" class=\"node\"><title>6</title>\r\n",
       "<polygon fill=\"#e58139\" stroke=\"black\" points=\"113,-149.5 0,-149.5 0,-96.5 113,-96.5 113,-149.5\"/>\r\n",
       "<text text-anchor=\"middle\" x=\"56.5\" y=\"-134.3\" font-family=\"Times New Roman,serif\" font-size=\"14.00\">samples = 6</text>\r\n",
       "<text text-anchor=\"middle\" x=\"56.5\" y=\"-119.3\" font-family=\"Times New Roman,serif\" font-size=\"14.00\">value = [6, 0]</text>\r\n",
       "<text text-anchor=\"middle\" x=\"56.5\" y=\"-104.3\" font-family=\"Times New Roman,serif\" font-size=\"14.00\">class = malignant</text>\r\n",
       "</g>\r\n",
       "<!-- 5&#45;&gt;6 -->\r\n",
       "<g id=\"edge6\" class=\"edge\"><title>5&#45;&gt;6</title>\r\n",
       "<path fill=\"none\" stroke=\"black\" d=\"M97.695,-192.884C91.0521,-181.776 83.6342,-169.372 76.9433,-158.184\"/>\r\n",
       "<polygon fill=\"black\" stroke=\"black\" points=\"79.8984,-156.306 71.7619,-149.52 73.8907,-159.899 79.8984,-156.306\"/>\r\n",
       "</g>\r\n",
       "<!-- 7 -->\r\n",
       "<g id=\"node8\" class=\"node\"><title>7</title>\r\n",
       "<polygon fill=\"#399de5\" stroke=\"black\" points=\"228,-149.5 131,-149.5 131,-96.5 228,-96.5 228,-149.5\"/>\r\n",
       "<text text-anchor=\"middle\" x=\"179.5\" y=\"-134.3\" font-family=\"Times New Roman,serif\" font-size=\"14.00\">samples = 1</text>\r\n",
       "<text text-anchor=\"middle\" x=\"179.5\" y=\"-119.3\" font-family=\"Times New Roman,serif\" font-size=\"14.00\">value = [0, 1]</text>\r\n",
       "<text text-anchor=\"middle\" x=\"179.5\" y=\"-104.3\" font-family=\"Times New Roman,serif\" font-size=\"14.00\">class = benign</text>\r\n",
       "</g>\r\n",
       "<!-- 5&#45;&gt;7 -->\r\n",
       "<g id=\"edge7\" class=\"edge\"><title>5&#45;&gt;7</title>\r\n",
       "<path fill=\"none\" stroke=\"black\" d=\"M137.63,-192.884C144.381,-181.776 151.921,-169.372 158.722,-158.184\"/>\r\n",
       "<polygon fill=\"black\" stroke=\"black\" points=\"161.785,-159.883 163.988,-149.52 155.803,-156.247 161.785,-159.883\"/>\r\n",
       "</g>\r\n",
       "<!-- 11 -->\r\n",
       "<g id=\"node12\" class=\"node\"><title>11</title>\r\n",
       "<polygon fill=\"#399de5\" stroke=\"black\" points=\"546,-357.5 449,-357.5 449,-304.5 546,-304.5 546,-357.5\"/>\r\n",
       "<text text-anchor=\"middle\" x=\"497.5\" y=\"-342.3\" font-family=\"Times New Roman,serif\" font-size=\"14.00\">samples = 2</text>\r\n",
       "<text text-anchor=\"middle\" x=\"497.5\" y=\"-327.3\" font-family=\"Times New Roman,serif\" font-size=\"14.00\">value = [0, 2]</text>\r\n",
       "<text text-anchor=\"middle\" x=\"497.5\" y=\"-312.3\" font-family=\"Times New Roman,serif\" font-size=\"14.00\">class = benign</text>\r\n",
       "</g>\r\n",
       "<!-- 10&#45;&gt;11 -->\r\n",
       "<g id=\"edge11\" class=\"edge\"><title>10&#45;&gt;11</title>\r\n",
       "<path fill=\"none\" stroke=\"black\" d=\"M511.682,-400.884C509.486,-390.216 507.043,-378.352 504.813,-367.519\"/>\r\n",
       "<polygon fill=\"black\" stroke=\"black\" points=\"508.199,-366.609 502.754,-357.52 501.343,-368.02 508.199,-366.609\"/>\r\n",
       "</g>\r\n",
       "<!-- 12 -->\r\n",
       "<g id=\"node13\" class=\"node\"><title>12</title>\r\n",
       "<polygon fill=\"#e58139\" stroke=\"black\" points=\"677,-357.5 564,-357.5 564,-304.5 677,-304.5 677,-357.5\"/>\r\n",
       "<text text-anchor=\"middle\" x=\"620.5\" y=\"-342.3\" font-family=\"Times New Roman,serif\" font-size=\"14.00\">samples = 1</text>\r\n",
       "<text text-anchor=\"middle\" x=\"620.5\" y=\"-327.3\" font-family=\"Times New Roman,serif\" font-size=\"14.00\">value = [1, 0]</text>\r\n",
       "<text text-anchor=\"middle\" x=\"620.5\" y=\"-312.3\" font-family=\"Times New Roman,serif\" font-size=\"14.00\">class = malignant</text>\r\n",
       "</g>\r\n",
       "<!-- 10&#45;&gt;12 -->\r\n",
       "<g id=\"edge12\" class=\"edge\"><title>10&#45;&gt;12</title>\r\n",
       "<path fill=\"none\" stroke=\"black\" d=\"M551.616,-400.884C563.164,-389.336 576.113,-376.387 587.64,-364.86\"/>\r\n",
       "<polygon fill=\"black\" stroke=\"black\" points=\"590.384,-367.066 594.98,-357.52 585.434,-362.116 590.384,-367.066\"/>\r\n",
       "</g>\r\n",
       "<!-- 14 -->\r\n",
       "<g id=\"node15\" class=\"node\"><title>14</title>\r\n",
       "<polygon fill=\"#e58139\" stroke=\"black\" points=\"741,-461.5 628,-461.5 628,-408.5 741,-408.5 741,-461.5\"/>\r\n",
       "<text text-anchor=\"middle\" x=\"684.5\" y=\"-446.3\" font-family=\"Times New Roman,serif\" font-size=\"14.00\">samples = 6</text>\r\n",
       "<text text-anchor=\"middle\" x=\"684.5\" y=\"-431.3\" font-family=\"Times New Roman,serif\" font-size=\"14.00\">value = [6, 0]</text>\r\n",
       "<text text-anchor=\"middle\" x=\"684.5\" y=\"-416.3\" font-family=\"Times New Roman,serif\" font-size=\"14.00\">class = malignant</text>\r\n",
       "</g>\r\n",
       "<!-- 13&#45;&gt;14 -->\r\n",
       "<g id=\"edge14\" class=\"edge\"><title>13&#45;&gt;14</title>\r\n",
       "<path fill=\"none\" stroke=\"black\" d=\"M737.851,-504.884C729.077,-493.556 719.26,-480.88 710.462,-469.521\"/>\r\n",
       "<polygon fill=\"black\" stroke=\"black\" points=\"713.156,-467.283 704.265,-461.52 707.622,-471.569 713.156,-467.283\"/>\r\n",
       "</g>\r\n",
       "<!-- 15 -->\r\n",
       "<g id=\"node16\" class=\"node\"><title>15</title>\r\n",
       "<polygon fill=\"#399de5\" fill-opacity=\"0.909804\" stroke=\"black\" points=\"935.5,-469 759.5,-469 759.5,-401 935.5,-401 935.5,-469\"/>\r\n",
       "<text text-anchor=\"middle\" x=\"847.5\" y=\"-453.8\" font-family=\"Times New Roman,serif\" font-size=\"14.00\">concave points_se &lt;= 0.011</text>\r\n",
       "<text text-anchor=\"middle\" x=\"847.5\" y=\"-438.8\" font-family=\"Times New Roman,serif\" font-size=\"14.00\">samples = 12</text>\r\n",
       "<text text-anchor=\"middle\" x=\"847.5\" y=\"-423.8\" font-family=\"Times New Roman,serif\" font-size=\"14.00\">value = [1, 11]</text>\r\n",
       "<text text-anchor=\"middle\" x=\"847.5\" y=\"-408.8\" font-family=\"Times New Roman,serif\" font-size=\"14.00\">class = benign</text>\r\n",
       "</g>\r\n",
       "<!-- 13&#45;&gt;15 -->\r\n",
       "<g id=\"edge15\" class=\"edge\"><title>13&#45;&gt;15</title>\r\n",
       "<path fill=\"none\" stroke=\"black\" d=\"M790.772,-504.884C798.035,-496.065 805.969,-486.43 813.542,-477.235\"/>\r\n",
       "<polygon fill=\"black\" stroke=\"black\" points=\"816.422,-479.244 820.077,-469.299 811.018,-474.794 816.422,-479.244\"/>\r\n",
       "</g>\r\n",
       "<!-- 16 -->\r\n",
       "<g id=\"node17\" class=\"node\"><title>16</title>\r\n",
       "<polygon fill=\"#399de5\" stroke=\"black\" points=\"855.5,-357.5 757.5,-357.5 757.5,-304.5 855.5,-304.5 855.5,-357.5\"/>\r\n",
       "<text text-anchor=\"middle\" x=\"806.5\" y=\"-342.3\" font-family=\"Times New Roman,serif\" font-size=\"14.00\">samples = 11</text>\r\n",
       "<text text-anchor=\"middle\" x=\"806.5\" y=\"-327.3\" font-family=\"Times New Roman,serif\" font-size=\"14.00\">value = [0, 11]</text>\r\n",
       "<text text-anchor=\"middle\" x=\"806.5\" y=\"-312.3\" font-family=\"Times New Roman,serif\" font-size=\"14.00\">class = benign</text>\r\n",
       "</g>\r\n",
       "<!-- 15&#45;&gt;16 -->\r\n",
       "<g id=\"edge16\" class=\"edge\"><title>15&#45;&gt;16</title>\r\n",
       "<path fill=\"none\" stroke=\"black\" d=\"M834.188,-400.884C829.812,-389.996 824.935,-377.863 820.508,-366.85\"/>\r\n",
       "<polygon fill=\"black\" stroke=\"black\" points=\"823.735,-365.493 816.758,-357.52 817.24,-368.104 823.735,-365.493\"/>\r\n",
       "</g>\r\n",
       "<!-- 17 -->\r\n",
       "<g id=\"node18\" class=\"node\"><title>17</title>\r\n",
       "<polygon fill=\"#e58139\" stroke=\"black\" points=\"987,-357.5 874,-357.5 874,-304.5 987,-304.5 987,-357.5\"/>\r\n",
       "<text text-anchor=\"middle\" x=\"930.5\" y=\"-342.3\" font-family=\"Times New Roman,serif\" font-size=\"14.00\">samples = 1</text>\r\n",
       "<text text-anchor=\"middle\" x=\"930.5\" y=\"-327.3\" font-family=\"Times New Roman,serif\" font-size=\"14.00\">value = [1, 0]</text>\r\n",
       "<text text-anchor=\"middle\" x=\"930.5\" y=\"-312.3\" font-family=\"Times New Roman,serif\" font-size=\"14.00\">class = malignant</text>\r\n",
       "</g>\r\n",
       "<!-- 15&#45;&gt;17 -->\r\n",
       "<g id=\"edge17\" class=\"edge\"><title>15&#45;&gt;17</title>\r\n",
       "<path fill=\"none\" stroke=\"black\" d=\"M874.448,-400.884C883.665,-389.556 893.98,-376.88 903.223,-365.521\"/>\r\n",
       "<polygon fill=\"black\" stroke=\"black\" points=\"906.137,-367.486 909.734,-357.52 900.707,-363.067 906.137,-367.486\"/>\r\n",
       "</g>\r\n",
       "<!-- 19 -->\r\n",
       "<g id=\"node20\" class=\"node\"><title>19</title>\r\n",
       "<polygon fill=\"#e58139\" fill-opacity=\"0.819608\" stroke=\"black\" points=\"1084.5,-573 944.5,-573 944.5,-505 1084.5,-505 1084.5,-573\"/>\r\n",
       "<text text-anchor=\"middle\" x=\"1014.5\" y=\"-557.8\" font-family=\"Times New Roman,serif\" font-size=\"14.00\">area_worst &lt;= 1066.4</text>\r\n",
       "<text text-anchor=\"middle\" x=\"1014.5\" y=\"-542.8\" font-family=\"Times New Roman,serif\" font-size=\"14.00\">samples = 13</text>\r\n",
       "<text text-anchor=\"middle\" x=\"1014.5\" y=\"-527.8\" font-family=\"Times New Roman,serif\" font-size=\"14.00\">value = [11, 2]</text>\r\n",
       "<text text-anchor=\"middle\" x=\"1014.5\" y=\"-512.8\" font-family=\"Times New Roman,serif\" font-size=\"14.00\">class = malignant</text>\r\n",
       "</g>\r\n",
       "<!-- 18&#45;&gt;19 -->\r\n",
       "<g id=\"edge19\" class=\"edge\"><title>18&#45;&gt;19</title>\r\n",
       "<path fill=\"none\" stroke=\"black\" d=\"M1014.5,-608.884C1014.5,-600.778 1014.5,-591.982 1014.5,-583.472\"/>\r\n",
       "<polygon fill=\"black\" stroke=\"black\" points=\"1018,-583.299 1014.5,-573.299 1011,-583.299 1018,-583.299\"/>\r\n",
       "</g>\r\n",
       "<!-- 22 -->\r\n",
       "<g id=\"node23\" class=\"node\"><title>22</title>\r\n",
       "<polygon fill=\"#399de5\" fill-opacity=\"0.941176\" stroke=\"black\" points=\"1368.5,-573 1206.5,-573 1206.5,-505 1368.5,-505 1368.5,-573\"/>\r\n",
       "<text text-anchor=\"middle\" x=\"1287.5\" y=\"-557.8\" font-family=\"Times New Roman,serif\" font-size=\"14.00\">perimeter_worst &lt;= 97.49</text>\r\n",
       "<text text-anchor=\"middle\" x=\"1287.5\" y=\"-542.8\" font-family=\"Times New Roman,serif\" font-size=\"14.00\">samples = 162</text>\r\n",
       "<text text-anchor=\"middle\" x=\"1287.5\" y=\"-527.8\" font-family=\"Times New Roman,serif\" font-size=\"14.00\">value = [9, 153]</text>\r\n",
       "<text text-anchor=\"middle\" x=\"1287.5\" y=\"-512.8\" font-family=\"Times New Roman,serif\" font-size=\"14.00\">class = benign</text>\r\n",
       "</g>\r\n",
       "<!-- 18&#45;&gt;22 -->\r\n",
       "<g id=\"edge22\" class=\"edge\"><title>18&#45;&gt;22</title>\r\n",
       "<path fill=\"none\" stroke=\"black\" d=\"M1096.78,-611.258C1128.36,-599.459 1164.56,-585.933 1196.88,-573.858\"/>\r\n",
       "<polygon fill=\"black\" stroke=\"black\" points=\"1198.19,-577.106 1206.33,-570.327 1195.74,-570.549 1198.19,-577.106\"/>\r\n",
       "</g>\r\n",
       "<!-- 20 -->\r\n",
       "<g id=\"node21\" class=\"node\"><title>20</title>\r\n",
       "<polygon fill=\"#e58139\" stroke=\"black\" points=\"1067,-461.5 954,-461.5 954,-408.5 1067,-408.5 1067,-461.5\"/>\r\n",
       "<text text-anchor=\"middle\" x=\"1010.5\" y=\"-446.3\" font-family=\"Times New Roman,serif\" font-size=\"14.00\">samples = 11</text>\r\n",
       "<text text-anchor=\"middle\" x=\"1010.5\" y=\"-431.3\" font-family=\"Times New Roman,serif\" font-size=\"14.00\">value = [11, 0]</text>\r\n",
       "<text text-anchor=\"middle\" x=\"1010.5\" y=\"-416.3\" font-family=\"Times New Roman,serif\" font-size=\"14.00\">class = malignant</text>\r\n",
       "</g>\r\n",
       "<!-- 19&#45;&gt;20 -->\r\n",
       "<g id=\"edge20\" class=\"edge\"><title>19&#45;&gt;20</title>\r\n",
       "<path fill=\"none\" stroke=\"black\" d=\"M1013.2,-504.884C1012.78,-494.216 1012.32,-482.352 1011.89,-471.519\"/>\r\n",
       "<polygon fill=\"black\" stroke=\"black\" points=\"1015.39,-471.375 1011.5,-461.52 1008.4,-471.649 1015.39,-471.375\"/>\r\n",
       "</g>\r\n",
       "<!-- 21 -->\r\n",
       "<g id=\"node22\" class=\"node\"><title>21</title>\r\n",
       "<polygon fill=\"#399de5\" stroke=\"black\" points=\"1182,-461.5 1085,-461.5 1085,-408.5 1182,-408.5 1182,-461.5\"/>\r\n",
       "<text text-anchor=\"middle\" x=\"1133.5\" y=\"-446.3\" font-family=\"Times New Roman,serif\" font-size=\"14.00\">samples = 2</text>\r\n",
       "<text text-anchor=\"middle\" x=\"1133.5\" y=\"-431.3\" font-family=\"Times New Roman,serif\" font-size=\"14.00\">value = [0, 2]</text>\r\n",
       "<text text-anchor=\"middle\" x=\"1133.5\" y=\"-416.3\" font-family=\"Times New Roman,serif\" font-size=\"14.00\">class = benign</text>\r\n",
       "</g>\r\n",
       "<!-- 19&#45;&gt;21 -->\r\n",
       "<g id=\"edge21\" class=\"edge\"><title>19&#45;&gt;21</title>\r\n",
       "<path fill=\"none\" stroke=\"black\" d=\"M1053.14,-504.884C1066.86,-493.116 1082.29,-479.894 1095.93,-468.203\"/>\r\n",
       "<polygon fill=\"black\" stroke=\"black\" points=\"1098.41,-470.685 1103.73,-461.52 1093.86,-465.37 1098.41,-470.685\"/>\r\n",
       "</g>\r\n",
       "<!-- 23 -->\r\n",
       "<g id=\"node24\" class=\"node\"><title>23</title>\r\n",
       "<polygon fill=\"#e58139\" fill-opacity=\"0.400000\" stroke=\"black\" points=\"1375,-469 1200,-469 1200,-401 1375,-401 1375,-469\"/>\r\n",
       "<text text-anchor=\"middle\" x=\"1287.5\" y=\"-453.8\" font-family=\"Times New Roman,serif\" font-size=\"14.00\">smoothness_mean &lt;= 0.108</text>\r\n",
       "<text text-anchor=\"middle\" x=\"1287.5\" y=\"-438.8\" font-family=\"Times New Roman,serif\" font-size=\"14.00\">samples = 8</text>\r\n",
       "<text text-anchor=\"middle\" x=\"1287.5\" y=\"-423.8\" font-family=\"Times New Roman,serif\" font-size=\"14.00\">value = [5, 3]</text>\r\n",
       "<text text-anchor=\"middle\" x=\"1287.5\" y=\"-408.8\" font-family=\"Times New Roman,serif\" font-size=\"14.00\">class = malignant</text>\r\n",
       "</g>\r\n",
       "<!-- 22&#45;&gt;23 -->\r\n",
       "<g id=\"edge23\" class=\"edge\"><title>22&#45;&gt;23</title>\r\n",
       "<path fill=\"none\" stroke=\"black\" d=\"M1287.5,-504.884C1287.5,-496.778 1287.5,-487.982 1287.5,-479.472\"/>\r\n",
       "<polygon fill=\"black\" stroke=\"black\" points=\"1291,-479.299 1287.5,-469.299 1284,-479.299 1291,-479.299\"/>\r\n",
       "</g>\r\n",
       "<!-- 28 -->\r\n",
       "<g id=\"node29\" class=\"node\"><title>28</title>\r\n",
       "<polygon fill=\"#399de5\" fill-opacity=\"0.972549\" stroke=\"black\" points=\"1541.5,-469 1393.5,-469 1393.5,-401 1541.5,-401 1541.5,-469\"/>\r\n",
       "<text text-anchor=\"middle\" x=\"1467.5\" y=\"-453.8\" font-family=\"Times New Roman,serif\" font-size=\"14.00\">texture_worst &lt;= 16.51</text>\r\n",
       "<text text-anchor=\"middle\" x=\"1467.5\" y=\"-438.8\" font-family=\"Times New Roman,serif\" font-size=\"14.00\">samples = 154</text>\r\n",
       "<text text-anchor=\"middle\" x=\"1467.5\" y=\"-423.8\" font-family=\"Times New Roman,serif\" font-size=\"14.00\">value = [4, 150]</text>\r\n",
       "<text text-anchor=\"middle\" x=\"1467.5\" y=\"-408.8\" font-family=\"Times New Roman,serif\" font-size=\"14.00\">class = benign</text>\r\n",
       "</g>\r\n",
       "<!-- 22&#45;&gt;28 -->\r\n",
       "<g id=\"edge28\" class=\"edge\"><title>22&#45;&gt;28</title>\r\n",
       "<path fill=\"none\" stroke=\"black\" d=\"M1345.94,-504.884C1363.16,-495.125 1382.15,-484.366 1399.89,-474.31\"/>\r\n",
       "<polygon fill=\"black\" stroke=\"black\" points=\"1402.07,-477.1 1409.04,-469.125 1398.62,-471.01 1402.07,-477.1\"/>\r\n",
       "</g>\r\n",
       "<!-- 24 -->\r\n",
       "<g id=\"node25\" class=\"node\"><title>24</title>\r\n",
       "<polygon fill=\"#e58139\" stroke=\"black\" points=\"1176,-357.5 1063,-357.5 1063,-304.5 1176,-304.5 1176,-357.5\"/>\r\n",
       "<text text-anchor=\"middle\" x=\"1119.5\" y=\"-342.3\" font-family=\"Times New Roman,serif\" font-size=\"14.00\">samples = 4</text>\r\n",
       "<text text-anchor=\"middle\" x=\"1119.5\" y=\"-327.3\" font-family=\"Times New Roman,serif\" font-size=\"14.00\">value = [4, 0]</text>\r\n",
       "<text text-anchor=\"middle\" x=\"1119.5\" y=\"-312.3\" font-family=\"Times New Roman,serif\" font-size=\"14.00\">class = malignant</text>\r\n",
       "</g>\r\n",
       "<!-- 23&#45;&gt;24 -->\r\n",
       "<g id=\"edge24\" class=\"edge\"><title>23&#45;&gt;24</title>\r\n",
       "<path fill=\"none\" stroke=\"black\" d=\"M1232.96,-400.884C1212.76,-388.621 1189.96,-374.779 1170.13,-362.737\"/>\r\n",
       "<polygon fill=\"black\" stroke=\"black\" points=\"1171.9,-359.718 1161.53,-357.52 1168.26,-365.702 1171.9,-359.718\"/>\r\n",
       "</g>\r\n",
       "<!-- 25 -->\r\n",
       "<g id=\"node26\" class=\"node\"><title>25</title>\r\n",
       "<polygon fill=\"#399de5\" fill-opacity=\"0.666667\" stroke=\"black\" points=\"1384.5,-365 1194.5,-365 1194.5,-297 1384.5,-297 1384.5,-365\"/>\r\n",
       "<text text-anchor=\"middle\" x=\"1289.5\" y=\"-349.8\" font-family=\"Times New Roman,serif\" font-size=\"14.00\">fractal_dimension_se &lt;= 0.005</text>\r\n",
       "<text text-anchor=\"middle\" x=\"1289.5\" y=\"-334.8\" font-family=\"Times New Roman,serif\" font-size=\"14.00\">samples = 4</text>\r\n",
       "<text text-anchor=\"middle\" x=\"1289.5\" y=\"-319.8\" font-family=\"Times New Roman,serif\" font-size=\"14.00\">value = [1, 3]</text>\r\n",
       "<text text-anchor=\"middle\" x=\"1289.5\" y=\"-304.8\" font-family=\"Times New Roman,serif\" font-size=\"14.00\">class = benign</text>\r\n",
       "</g>\r\n",
       "<!-- 23&#45;&gt;25 -->\r\n",
       "<g id=\"edge25\" class=\"edge\"><title>23&#45;&gt;25</title>\r\n",
       "<path fill=\"none\" stroke=\"black\" d=\"M1288.15,-400.884C1288.31,-392.778 1288.48,-383.982 1288.65,-375.472\"/>\r\n",
       "<polygon fill=\"black\" stroke=\"black\" points=\"1292.15,-375.366 1288.85,-365.299 1285.15,-375.229 1292.15,-375.366\"/>\r\n",
       "</g>\r\n",
       "<!-- 26 -->\r\n",
       "<g id=\"node27\" class=\"node\"><title>26</title>\r\n",
       "<polygon fill=\"#399de5\" stroke=\"black\" points=\"1274,-253.5 1177,-253.5 1177,-200.5 1274,-200.5 1274,-253.5\"/>\r\n",
       "<text text-anchor=\"middle\" x=\"1225.5\" y=\"-238.3\" font-family=\"Times New Roman,serif\" font-size=\"14.00\">samples = 3</text>\r\n",
       "<text text-anchor=\"middle\" x=\"1225.5\" y=\"-223.3\" font-family=\"Times New Roman,serif\" font-size=\"14.00\">value = [0, 3]</text>\r\n",
       "<text text-anchor=\"middle\" x=\"1225.5\" y=\"-208.3\" font-family=\"Times New Roman,serif\" font-size=\"14.00\">class = benign</text>\r\n",
       "</g>\r\n",
       "<!-- 25&#45;&gt;26 -->\r\n",
       "<g id=\"edge26\" class=\"edge\"><title>25&#45;&gt;26</title>\r\n",
       "<path fill=\"none\" stroke=\"black\" d=\"M1268.72,-296.884C1261.75,-285.776 1253.97,-273.372 1246.95,-262.184\"/>\r\n",
       "<polygon fill=\"black\" stroke=\"black\" points=\"1249.79,-260.13 1241.51,-253.52 1243.86,-263.851 1249.79,-260.13\"/>\r\n",
       "</g>\r\n",
       "<!-- 27 -->\r\n",
       "<g id=\"node28\" class=\"node\"><title>27</title>\r\n",
       "<polygon fill=\"#e58139\" stroke=\"black\" points=\"1405,-253.5 1292,-253.5 1292,-200.5 1405,-200.5 1405,-253.5\"/>\r\n",
       "<text text-anchor=\"middle\" x=\"1348.5\" y=\"-238.3\" font-family=\"Times New Roman,serif\" font-size=\"14.00\">samples = 1</text>\r\n",
       "<text text-anchor=\"middle\" x=\"1348.5\" y=\"-223.3\" font-family=\"Times New Roman,serif\" font-size=\"14.00\">value = [1, 0]</text>\r\n",
       "<text text-anchor=\"middle\" x=\"1348.5\" y=\"-208.3\" font-family=\"Times New Roman,serif\" font-size=\"14.00\">class = malignant</text>\r\n",
       "</g>\r\n",
       "<!-- 25&#45;&gt;27 -->\r\n",
       "<g id=\"edge27\" class=\"edge\"><title>25&#45;&gt;27</title>\r\n",
       "<path fill=\"none\" stroke=\"black\" d=\"M1308.66,-296.884C1315.08,-285.776 1322.26,-273.372 1328.73,-262.184\"/>\r\n",
       "<polygon fill=\"black\" stroke=\"black\" points=\"1331.76,-263.929 1333.74,-253.52 1325.7,-260.424 1331.76,-263.929\"/>\r\n",
       "</g>\r\n",
       "<!-- 29 -->\r\n",
       "<g id=\"node30\" class=\"node\"><title>29</title>\r\n",
       "<polygon fill=\"#e58139\" stroke=\"black\" points=\"1521,-357.5 1408,-357.5 1408,-304.5 1521,-304.5 1521,-357.5\"/>\r\n",
       "<text text-anchor=\"middle\" x=\"1464.5\" y=\"-342.3\" font-family=\"Times New Roman,serif\" font-size=\"14.00\">samples = 2</text>\r\n",
       "<text text-anchor=\"middle\" x=\"1464.5\" y=\"-327.3\" font-family=\"Times New Roman,serif\" font-size=\"14.00\">value = [2, 0]</text>\r\n",
       "<text text-anchor=\"middle\" x=\"1464.5\" y=\"-312.3\" font-family=\"Times New Roman,serif\" font-size=\"14.00\">class = malignant</text>\r\n",
       "</g>\r\n",
       "<!-- 28&#45;&gt;29 -->\r\n",
       "<g id=\"edge29\" class=\"edge\"><title>28&#45;&gt;29</title>\r\n",
       "<path fill=\"none\" stroke=\"black\" d=\"M1466.53,-400.884C1466.21,-390.216 1465.86,-378.352 1465.54,-367.519\"/>\r\n",
       "<polygon fill=\"black\" stroke=\"black\" points=\"1469.04,-367.413 1465.25,-357.52 1462.05,-367.619 1469.04,-367.413\"/>\r\n",
       "</g>\r\n",
       "<!-- 30 -->\r\n",
       "<g id=\"node31\" class=\"node\"><title>30</title>\r\n",
       "<polygon fill=\"#399de5\" fill-opacity=\"0.988235\" stroke=\"black\" points=\"1729.5,-365 1539.5,-365 1539.5,-297 1729.5,-297 1729.5,-365\"/>\r\n",
       "<text text-anchor=\"middle\" x=\"1634.5\" y=\"-349.8\" font-family=\"Times New Roman,serif\" font-size=\"14.00\">fractal_dimension_se &lt;= 0.013</text>\r\n",
       "<text text-anchor=\"middle\" x=\"1634.5\" y=\"-334.8\" font-family=\"Times New Roman,serif\" font-size=\"14.00\">samples = 152</text>\r\n",
       "<text text-anchor=\"middle\" x=\"1634.5\" y=\"-319.8\" font-family=\"Times New Roman,serif\" font-size=\"14.00\">value = [2, 150]</text>\r\n",
       "<text text-anchor=\"middle\" x=\"1634.5\" y=\"-304.8\" font-family=\"Times New Roman,serif\" font-size=\"14.00\">class = benign</text>\r\n",
       "</g>\r\n",
       "<!-- 28&#45;&gt;30 -->\r\n",
       "<g id=\"edge30\" class=\"edge\"><title>28&#45;&gt;30</title>\r\n",
       "<path fill=\"none\" stroke=\"black\" d=\"M1521.72,-400.884C1537.55,-391.214 1554.99,-380.563 1571.32,-370.587\"/>\r\n",
       "<polygon fill=\"black\" stroke=\"black\" points=\"1573.56,-373.324 1580.27,-365.125 1569.91,-367.35 1573.56,-373.324\"/>\r\n",
       "</g>\r\n",
       "<!-- 31 -->\r\n",
       "<g id=\"node32\" class=\"node\"><title>31</title>\r\n",
       "<polygon fill=\"#399de5\" fill-opacity=\"0.992157\" stroke=\"black\" points=\"1633.5,-261 1487.5,-261 1487.5,-193 1633.5,-193 1633.5,-261\"/>\r\n",
       "<text text-anchor=\"middle\" x=\"1560.5\" y=\"-245.8\" font-family=\"Times New Roman,serif\" font-size=\"14.00\">texture_mean &lt;= 15.37</text>\r\n",
       "<text text-anchor=\"middle\" x=\"1560.5\" y=\"-230.8\" font-family=\"Times New Roman,serif\" font-size=\"14.00\">samples = 151</text>\r\n",
       "<text text-anchor=\"middle\" x=\"1560.5\" y=\"-215.8\" font-family=\"Times New Roman,serif\" font-size=\"14.00\">value = [1, 150]</text>\r\n",
       "<text text-anchor=\"middle\" x=\"1560.5\" y=\"-200.8\" font-family=\"Times New Roman,serif\" font-size=\"14.00\">class = benign</text>\r\n",
       "</g>\r\n",
       "<!-- 30&#45;&gt;31 -->\r\n",
       "<g id=\"edge31\" class=\"edge\"><title>30&#45;&gt;31</title>\r\n",
       "<path fill=\"none\" stroke=\"black\" d=\"M1610.47,-296.884C1604.14,-288.154 1597.23,-278.625 1590.62,-269.514\"/>\r\n",
       "<polygon fill=\"black\" stroke=\"black\" points=\"1593.36,-267.338 1584.66,-261.299 1587.7,-271.449 1593.36,-267.338\"/>\r\n",
       "</g>\r\n",
       "<!-- 36 -->\r\n",
       "<g id=\"node37\" class=\"node\"><title>36</title>\r\n",
       "<polygon fill=\"#e58139\" stroke=\"black\" points=\"1765,-253.5 1652,-253.5 1652,-200.5 1765,-200.5 1765,-253.5\"/>\r\n",
       "<text text-anchor=\"middle\" x=\"1708.5\" y=\"-238.3\" font-family=\"Times New Roman,serif\" font-size=\"14.00\">samples = 1</text>\r\n",
       "<text text-anchor=\"middle\" x=\"1708.5\" y=\"-223.3\" font-family=\"Times New Roman,serif\" font-size=\"14.00\">value = [1, 0]</text>\r\n",
       "<text text-anchor=\"middle\" x=\"1708.5\" y=\"-208.3\" font-family=\"Times New Roman,serif\" font-size=\"14.00\">class = malignant</text>\r\n",
       "</g>\r\n",
       "<!-- 30&#45;&gt;36 -->\r\n",
       "<g id=\"edge36\" class=\"edge\"><title>30&#45;&gt;36</title>\r\n",
       "<path fill=\"none\" stroke=\"black\" d=\"M1658.53,-296.884C1666.66,-285.666 1675.76,-273.126 1683.94,-261.852\"/>\r\n",
       "<polygon fill=\"black\" stroke=\"black\" points=\"1686.95,-263.669 1689.99,-253.52 1681.28,-259.559 1686.95,-263.669\"/>\r\n",
       "</g>\r\n",
       "<!-- 32 -->\r\n",
       "<g id=\"node33\" class=\"node\"><title>32</title>\r\n",
       "<polygon fill=\"#399de5\" fill-opacity=\"0.800000\" stroke=\"black\" points=\"1570.5,-157 1388.5,-157 1388.5,-89 1570.5,-89 1570.5,-157\"/>\r\n",
       "<text text-anchor=\"middle\" x=\"1479.5\" y=\"-141.8\" font-family=\"Times New Roman,serif\" font-size=\"14.00\">compactness_mean &lt;= 0.109</text>\r\n",
       "<text text-anchor=\"middle\" x=\"1479.5\" y=\"-126.8\" font-family=\"Times New Roman,serif\" font-size=\"14.00\">samples = 6</text>\r\n",
       "<text text-anchor=\"middle\" x=\"1479.5\" y=\"-111.8\" font-family=\"Times New Roman,serif\" font-size=\"14.00\">value = [1, 5]</text>\r\n",
       "<text text-anchor=\"middle\" x=\"1479.5\" y=\"-96.8\" font-family=\"Times New Roman,serif\" font-size=\"14.00\">class = benign</text>\r\n",
       "</g>\r\n",
       "<!-- 31&#45;&gt;32 -->\r\n",
       "<g id=\"edge32\" class=\"edge\"><title>31&#45;&gt;32</title>\r\n",
       "<path fill=\"none\" stroke=\"black\" d=\"M1534.2,-192.884C1527.2,-184.065 1519.55,-174.43 1512.25,-165.235\"/>\r\n",
       "<polygon fill=\"black\" stroke=\"black\" points=\"1514.9,-162.954 1505.94,-157.299 1509.42,-167.307 1514.9,-162.954\"/>\r\n",
       "</g>\r\n",
       "<!-- 35 -->\r\n",
       "<g id=\"node36\" class=\"node\"><title>35</title>\r\n",
       "<polygon fill=\"#399de5\" stroke=\"black\" points=\"1692.5,-149.5 1588.5,-149.5 1588.5,-96.5 1692.5,-96.5 1692.5,-149.5\"/>\r\n",
       "<text text-anchor=\"middle\" x=\"1640.5\" y=\"-134.3\" font-family=\"Times New Roman,serif\" font-size=\"14.00\">samples = 145</text>\r\n",
       "<text text-anchor=\"middle\" x=\"1640.5\" y=\"-119.3\" font-family=\"Times New Roman,serif\" font-size=\"14.00\">value = [0, 145]</text>\r\n",
       "<text text-anchor=\"middle\" x=\"1640.5\" y=\"-104.3\" font-family=\"Times New Roman,serif\" font-size=\"14.00\">class = benign</text>\r\n",
       "</g>\r\n",
       "<!-- 31&#45;&gt;35 -->\r\n",
       "<g id=\"edge35\" class=\"edge\"><title>31&#45;&gt;35</title>\r\n",
       "<path fill=\"none\" stroke=\"black\" d=\"M1586.47,-192.884C1595.36,-181.556 1605.3,-168.88 1614.21,-157.521\"/>\r\n",
       "<polygon fill=\"black\" stroke=\"black\" points=\"1617.07,-159.548 1620.48,-149.52 1611.56,-155.228 1617.07,-159.548\"/>\r\n",
       "</g>\r\n",
       "<!-- 33 -->\r\n",
       "<g id=\"node34\" class=\"node\"><title>33</title>\r\n",
       "<polygon fill=\"#e58139\" stroke=\"black\" points=\"1474,-53 1361,-53 1361,-0 1474,-0 1474,-53\"/>\r\n",
       "<text text-anchor=\"middle\" x=\"1417.5\" y=\"-37.8\" font-family=\"Times New Roman,serif\" font-size=\"14.00\">samples = 1</text>\r\n",
       "<text text-anchor=\"middle\" x=\"1417.5\" y=\"-22.8\" font-family=\"Times New Roman,serif\" font-size=\"14.00\">value = [1, 0]</text>\r\n",
       "<text text-anchor=\"middle\" x=\"1417.5\" y=\"-7.8\" font-family=\"Times New Roman,serif\" font-size=\"14.00\">class = malignant</text>\r\n",
       "</g>\r\n",
       "<!-- 32&#45;&gt;33 -->\r\n",
       "<g id=\"edge33\" class=\"edge\"><title>32&#45;&gt;33</title>\r\n",
       "<path fill=\"none\" stroke=\"black\" d=\"M1457.82,-88.9485C1452.05,-80.1664 1445.82,-70.6629 1440.01,-61.815\"/>\r\n",
       "<polygon fill=\"black\" stroke=\"black\" points=\"1442.8,-59.6779 1434.39,-53.2367 1436.94,-63.5178 1442.8,-59.6779\"/>\r\n",
       "</g>\r\n",
       "<!-- 34 -->\r\n",
       "<g id=\"node35\" class=\"node\"><title>34</title>\r\n",
       "<polygon fill=\"#399de5\" stroke=\"black\" points=\"1589,-53 1492,-53 1492,-0 1589,-0 1589,-53\"/>\r\n",
       "<text text-anchor=\"middle\" x=\"1540.5\" y=\"-37.8\" font-family=\"Times New Roman,serif\" font-size=\"14.00\">samples = 5</text>\r\n",
       "<text text-anchor=\"middle\" x=\"1540.5\" y=\"-22.8\" font-family=\"Times New Roman,serif\" font-size=\"14.00\">value = [0, 5]</text>\r\n",
       "<text text-anchor=\"middle\" x=\"1540.5\" y=\"-7.8\" font-family=\"Times New Roman,serif\" font-size=\"14.00\">class = benign</text>\r\n",
       "</g>\r\n",
       "<!-- 32&#45;&gt;34 -->\r\n",
       "<g id=\"edge34\" class=\"edge\"><title>32&#45;&gt;34</title>\r\n",
       "<path fill=\"none\" stroke=\"black\" d=\"M1500.83,-88.9485C1506.5,-80.1664 1512.64,-70.6629 1518.35,-61.815\"/>\r\n",
       "<polygon fill=\"black\" stroke=\"black\" points=\"1521.4,-63.5365 1523.89,-53.2367 1515.52,-59.7402 1521.4,-63.5365\"/>\r\n",
       "</g>\r\n",
       "</g>\r\n",
       "</svg>\r\n"
      ],
      "text/plain": [
       "<graphviz.files.Source at 0x18ed90f41d0>"
      ]
     },
     "execution_count": 13,
     "metadata": {},
     "output_type": "execute_result"
    }
   ],
   "source": [
    "from sklearn.tree import export_graphviz\n",
    "export_graphviz(simple_decision_tree, out_file=\"tree.dot\", class_names=[\"malignant\", \"benign\"], feature_names=X.columns, impurity=False, filled=True)\n",
    "\n",
    "\n",
    "import graphviz\n",
    "import os\n",
    "os.environ[\"PATH\"] += os.pathsep + 'C:/Program Files (x86)/Graphviz2.38/bin/'\n",
    "with open(\"tree.dot\") as f:\n",
    "    dot_graph = f.read()\n",
    "graphviz.Source(dot_graph)"
   ]
  },
  {
   "cell_type": "markdown",
   "metadata": {},
   "source": [
    "## 3.4. Pre-pruning a tree\n",
    "As mentioned previously, scikit-learn only implements pre-pruning, not post-pruning, so we will only demonstrate how pre-pruning works.<p>\n",
    "    Now let’s apply pre-pruning to the tree, which will stop growing the tree before we perfectly fit it to the training data. "
   ]
  },
  {
   "cell_type": "markdown",
   "metadata": {},
   "source": [
    "<div class=\"alert alert-block alert-success\">**Start Activity**</div>"
   ]
  },
  {
   "cell_type": "markdown",
   "metadata": {},
   "source": [
    "### <font color='blue'> Question 1: Set the maximum depth equal to 3, meaning only 3 consecutive splits can be made </font>"
   ]
  },
  {
   "cell_type": "code",
   "execution_count": 14,
   "metadata": {},
   "outputs": [
    {
     "name": "stdout",
     "output_type": "stream",
     "text": [
      "Accuracy on training set: 0.976\n",
      "Accuracy on test set: 0.956\n"
     ]
    }
   ],
   "source": [
    "# Write Python Code here\n",
    "decision_tree_max_depth3 = DecisionTreeClassifier(random_state=0, max_depth = 3)\n",
    "decision_tree_max_depth3.fit(X_train, y_train)\n",
    "\n",
    "print(\"Accuracy on training set: {:.3f}\".format(decision_tree_max_depth3.score(X_train, y_train))) \n",
    "print(\"Accuracy on test set: {:.3f}\".format(decision_tree_max_depth3.score(X_test, y_test)))"
   ]
  },
  {
   "cell_type": "markdown",
   "metadata": {},
   "source": [
    "<div class=\"alert alert-block alert-warning\">**End Activity**</div>"
   ]
  },
  {
   "cell_type": "markdown",
   "metadata": {},
   "source": [
    "### 3.4.1. Confusion Matrix"
   ]
  },
  {
   "cell_type": "markdown",
   "metadata": {},
   "source": [
    "![alt text](images/Confusion_matrix.PNG)"
   ]
  },
  {
   "cell_type": "code",
   "execution_count": 15,
   "metadata": {},
   "outputs": [
    {
     "name": "stdout",
     "output_type": "stream",
     "text": [
      "[[41  1]\n",
      " [ 4 68]]\n"
     ]
    },
    {
     "data": {
      "image/png": "[encoded data removed]",
      "text/plain": [
       "<matplotlib.figure.Figure at 0x18ed90f43c8>"
      ]
     },
     "metadata": {
      "needs_background": "light"
     },
     "output_type": "display_data"
    }
   ],
   "source": [
    "from sklearn.metrics import confusion_matrix\n",
    "cancer_labels = ['M', 'B']\n",
    "y_pred_max_depth3 = decision_tree_max_depth3.predict(X_test)\n",
    "cm_max_depth3 = confusion_matrix(y_true = y_test, y_pred = y_pred_max_depth3, labels=cancer_labels)\n",
    "print(cm_max_depth3)\n",
    "\n",
    "import matplotlib.pyplot as plt\n",
    "fig = plt.figure()\n",
    "ax = fig.add_subplot(111)\n",
    "cax = ax.matshow(cm)\n",
    "plt.title('Confusion matrix of the classifier')\n",
    "fig.colorbar(cax)\n",
    "ax.set_xticklabels([''] + cancer_labels)\n",
    "ax.set_yticklabels([''] + cancer_labels)\n",
    "plt.xlabel('Predicted')\n",
    "plt.ylabel('True')\n",
    "plt.show()"
   ]
  },
  {
   "cell_type": "code",
   "execution_count": 16,
   "metadata": {},
   "outputs": [
    {
     "name": "stdout",
     "output_type": "stream",
     "text": [
      "             precision    recall  f1-score   support\n",
      "\n",
      "          B       0.99      0.94      0.96        72\n",
      "          M       0.91      0.98      0.94        42\n",
      "\n",
      "avg / total       0.96      0.96      0.96       114\n",
      "\n"
     ]
    }
   ],
   "source": [
    "from sklearn.metrics import classification_report\n",
    "print(classification_report(y_test, y_pred_max_depth3))"
   ]
  },
  {
   "cell_type": "markdown",
   "metadata": {},
   "source": [
    "### 3.4.2 Visualisation"
   ]
  },
  {
   "cell_type": "code",
   "execution_count": 17,
   "metadata": {},
   "outputs": [
    {
     "data": {
      "image/svg+xml": [
       "<?xml version=\"1.0\" encoding=\"UTF-8\" standalone=\"no\"?>\r\n",
       "<!DOCTYPE svg PUBLIC \"-//W3C//DTD SVG 1.1//EN\"\r\n",
       " \"http://www.w3.org/Graphics/SVG/1.1/DTD/svg11.dtd\">\r\n",
       "<!-- Generated by graphviz version 2.38.0 (20140413.2041)\r\n",
       " -->\r\n",
       "<!-- Title: Tree Pages: 1 -->\r\n",
       "<svg width=\"984pt\" height=\"373pt\"\r\n",
       " viewBox=\"0.00 0.00 983.50 373.00\" xmlns=\"http://www.w3.org/2000/svg\" xmlns:xlink=\"http://www.w3.org/1999/xlink\">\r\n",
       "<g id=\"graph0\" class=\"graph\" transform=\"scale(1 1) rotate(0) translate(4 369)\">\r\n",
       "<title>Tree</title>\r\n",
       "<polygon fill=\"white\" stroke=\"none\" points=\"-4,4 -4,-369 979.5,-369 979.5,4 -4,4\"/>\r\n",
       "<!-- 0 -->\r\n",
       "<g id=\"node1\" class=\"node\"><title>0</title>\r\n",
       "<polygon fill=\"#e58139\" fill-opacity=\"0.403922\" stroke=\"black\" points=\"581,-365 388,-365 388,-297 581,-297 581,-365\"/>\r\n",
       "<text text-anchor=\"middle\" x=\"484.5\" y=\"-349.8\" font-family=\"Times New Roman,serif\" font-size=\"14.00\">concave points_mean &lt;= 0.049</text>\r\n",
       "<text text-anchor=\"middle\" x=\"484.5\" y=\"-334.8\" font-family=\"Times New Roman,serif\" font-size=\"14.00\">samples = 455</text>\r\n",
       "<text text-anchor=\"middle\" x=\"484.5\" y=\"-319.8\" font-family=\"Times New Roman,serif\" font-size=\"14.00\">value = [285, 170]</text>\r\n",
       "<text text-anchor=\"middle\" x=\"484.5\" y=\"-304.8\" font-family=\"Times New Roman,serif\" font-size=\"14.00\">class = malignant</text>\r\n",
       "</g>\r\n",
       "<!-- 1 -->\r\n",
       "<g id=\"node2\" class=\"node\"><title>1</title>\r\n",
       "<polygon fill=\"#e58139\" fill-opacity=\"0.945098\" stroke=\"black\" points=\"457.5,-261 313.5,-261 313.5,-193 457.5,-193 457.5,-261\"/>\r\n",
       "<text text-anchor=\"middle\" x=\"385.5\" y=\"-245.8\" font-family=\"Times New Roman,serif\" font-size=\"14.00\">radius_worst &lt;= 16.83</text>\r\n",
       "<text text-anchor=\"middle\" x=\"385.5\" y=\"-230.8\" font-family=\"Times New Roman,serif\" font-size=\"14.00\">samples = 280</text>\r\n",
       "<text text-anchor=\"middle\" x=\"385.5\" y=\"-215.8\" font-family=\"Times New Roman,serif\" font-size=\"14.00\">value = [265, 15]</text>\r\n",
       "<text text-anchor=\"middle\" x=\"385.5\" y=\"-200.8\" font-family=\"Times New Roman,serif\" font-size=\"14.00\">class = malignant</text>\r\n",
       "</g>\r\n",
       "<!-- 0&#45;&gt;1 -->\r\n",
       "<g id=\"edge1\" class=\"edge\"><title>0&#45;&gt;1</title>\r\n",
       "<path fill=\"none\" stroke=\"black\" d=\"M452.358,-296.884C443.626,-287.887 434.069,-278.041 424.982,-268.678\"/>\r\n",
       "<polygon fill=\"black\" stroke=\"black\" points=\"427.296,-266.038 417.82,-261.299 422.273,-270.913 427.296,-266.038\"/>\r\n",
       "<text text-anchor=\"middle\" x=\"417.447\" y=\"-282.597\" font-family=\"Times New Roman,serif\" font-size=\"14.00\">True</text>\r\n",
       "</g>\r\n",
       "<!-- 8 -->\r\n",
       "<g id=\"node9\" class=\"node\"><title>8</title>\r\n",
       "<polygon fill=\"#399de5\" fill-opacity=\"0.870588\" stroke=\"black\" points=\"666.5,-261 502.5,-261 502.5,-193 666.5,-193 666.5,-261\"/>\r\n",
       "<text text-anchor=\"middle\" x=\"584.5\" y=\"-245.8\" font-family=\"Times New Roman,serif\" font-size=\"14.00\">concavity_worst &lt;= 0.224</text>\r\n",
       "<text text-anchor=\"middle\" x=\"584.5\" y=\"-230.8\" font-family=\"Times New Roman,serif\" font-size=\"14.00\">samples = 175</text>\r\n",
       "<text text-anchor=\"middle\" x=\"584.5\" y=\"-215.8\" font-family=\"Times New Roman,serif\" font-size=\"14.00\">value = [20, 155]</text>\r\n",
       "<text text-anchor=\"middle\" x=\"584.5\" y=\"-200.8\" font-family=\"Times New Roman,serif\" font-size=\"14.00\">class = benign</text>\r\n",
       "</g>\r\n",
       "<!-- 0&#45;&gt;8 -->\r\n",
       "<g id=\"edge8\" class=\"edge\"><title>0&#45;&gt;8</title>\r\n",
       "<path fill=\"none\" stroke=\"black\" d=\"M516.967,-296.884C525.787,-287.887 535.441,-278.041 544.619,-268.678\"/>\r\n",
       "<polygon fill=\"black\" stroke=\"black\" points=\"547.352,-270.89 551.854,-261.299 542.354,-265.99 547.352,-270.89\"/>\r\n",
       "<text text-anchor=\"middle\" x=\"552.101\" y=\"-282.598\" font-family=\"Times New Roman,serif\" font-size=\"14.00\">False</text>\r\n",
       "</g>\r\n",
       "<!-- 2 -->\r\n",
       "<g id=\"node3\" class=\"node\"><title>2</title>\r\n",
       "<polygon fill=\"#e58139\" fill-opacity=\"0.984314\" stroke=\"black\" points=\"236,-157 123,-157 123,-89 236,-89 236,-157\"/>\r\n",
       "<text text-anchor=\"middle\" x=\"179.5\" y=\"-141.8\" font-family=\"Times New Roman,serif\" font-size=\"14.00\">area_se &lt;= 48.7</text>\r\n",
       "<text text-anchor=\"middle\" x=\"179.5\" y=\"-126.8\" font-family=\"Times New Roman,serif\" font-size=\"14.00\">samples = 262</text>\r\n",
       "<text text-anchor=\"middle\" x=\"179.5\" y=\"-111.8\" font-family=\"Times New Roman,serif\" font-size=\"14.00\">value = [258, 4]</text>\r\n",
       "<text text-anchor=\"middle\" x=\"179.5\" y=\"-96.8\" font-family=\"Times New Roman,serif\" font-size=\"14.00\">class = malignant</text>\r\n",
       "</g>\r\n",
       "<!-- 1&#45;&gt;2 -->\r\n",
       "<g id=\"edge2\" class=\"edge\"><title>1&#45;&gt;2</title>\r\n",
       "<path fill=\"none\" stroke=\"black\" d=\"M318.618,-192.884C295.075,-181.226 268.649,-168.142 245.204,-156.533\"/>\r\n",
       "<polygon fill=\"black\" stroke=\"black\" points=\"246.553,-153.296 236.038,-151.995 243.447,-159.569 246.553,-153.296\"/>\r\n",
       "</g>\r\n",
       "<!-- 5 -->\r\n",
       "<g id=\"node6\" class=\"node\"><title>5</title>\r\n",
       "<polygon fill=\"#399de5\" fill-opacity=\"0.364706\" stroke=\"black\" points=\"458.5,-157 312.5,-157 312.5,-89 458.5,-89 458.5,-157\"/>\r\n",
       "<text text-anchor=\"middle\" x=\"385.5\" y=\"-141.8\" font-family=\"Times New Roman,serif\" font-size=\"14.00\">texture_mean &lt;= 16.19</text>\r\n",
       "<text text-anchor=\"middle\" x=\"385.5\" y=\"-126.8\" font-family=\"Times New Roman,serif\" font-size=\"14.00\">samples = 18</text>\r\n",
       "<text text-anchor=\"middle\" x=\"385.5\" y=\"-111.8\" font-family=\"Times New Roman,serif\" font-size=\"14.00\">value = [7, 11]</text>\r\n",
       "<text text-anchor=\"middle\" x=\"385.5\" y=\"-96.8\" font-family=\"Times New Roman,serif\" font-size=\"14.00\">class = benign</text>\r\n",
       "</g>\r\n",
       "<!-- 1&#45;&gt;5 -->\r\n",
       "<g id=\"edge5\" class=\"edge\"><title>1&#45;&gt;5</title>\r\n",
       "<path fill=\"none\" stroke=\"black\" d=\"M385.5,-192.884C385.5,-184.778 385.5,-175.982 385.5,-167.472\"/>\r\n",
       "<polygon fill=\"black\" stroke=\"black\" points=\"389,-167.299 385.5,-157.299 382,-167.299 389,-167.299\"/>\r\n",
       "</g>\r\n",
       "<!-- 3 -->\r\n",
       "<g id=\"node4\" class=\"node\"><title>3</title>\r\n",
       "<polygon fill=\"#e58139\" fill-opacity=\"0.992157\" stroke=\"black\" points=\"113,-53 0,-53 0,-0 113,-0 113,-53\"/>\r\n",
       "<text text-anchor=\"middle\" x=\"56.5\" y=\"-37.8\" font-family=\"Times New Roman,serif\" font-size=\"14.00\">samples = 259</text>\r\n",
       "<text text-anchor=\"middle\" x=\"56.5\" y=\"-22.8\" font-family=\"Times New Roman,serif\" font-size=\"14.00\">value = [257, 2]</text>\r\n",
       "<text text-anchor=\"middle\" x=\"56.5\" y=\"-7.8\" font-family=\"Times New Roman,serif\" font-size=\"14.00\">class = malignant</text>\r\n",
       "</g>\r\n",
       "<!-- 2&#45;&gt;3 -->\r\n",
       "<g id=\"edge3\" class=\"edge\"><title>2&#45;&gt;3</title>\r\n",
       "<path fill=\"none\" stroke=\"black\" d=\"M136.481,-88.9485C123.978,-79.3431 110.353,-68.8747 97.949,-59.345\"/>\r\n",
       "<polygon fill=\"black\" stroke=\"black\" points=\"100.061,-56.5537 89.9986,-53.2367 95.7961,-62.1046 100.061,-56.5537\"/>\r\n",
       "</g>\r\n",
       "<!-- 4 -->\r\n",
       "<g id=\"node5\" class=\"node\"><title>4</title>\r\n",
       "<polygon fill=\"#399de5\" fill-opacity=\"0.498039\" stroke=\"black\" points=\"228,-53 131,-53 131,-0 228,-0 228,-53\"/>\r\n",
       "<text text-anchor=\"middle\" x=\"179.5\" y=\"-37.8\" font-family=\"Times New Roman,serif\" font-size=\"14.00\">samples = 3</text>\r\n",
       "<text text-anchor=\"middle\" x=\"179.5\" y=\"-22.8\" font-family=\"Times New Roman,serif\" font-size=\"14.00\">value = [1, 2]</text>\r\n",
       "<text text-anchor=\"middle\" x=\"179.5\" y=\"-7.8\" font-family=\"Times New Roman,serif\" font-size=\"14.00\">class = benign</text>\r\n",
       "</g>\r\n",
       "<!-- 2&#45;&gt;4 -->\r\n",
       "<g id=\"edge4\" class=\"edge\"><title>2&#45;&gt;4</title>\r\n",
       "<path fill=\"none\" stroke=\"black\" d=\"M179.5,-88.9485C179.5,-80.7153 179.5,-71.848 179.5,-63.4814\"/>\r\n",
       "<polygon fill=\"black\" stroke=\"black\" points=\"183,-63.2367 179.5,-53.2367 176,-63.2367 183,-63.2367\"/>\r\n",
       "</g>\r\n",
       "<!-- 6 -->\r\n",
       "<g id=\"node7\" class=\"node\"><title>6</title>\r\n",
       "<polygon fill=\"#e58139\" stroke=\"black\" points=\"359,-53 246,-53 246,-0 359,-0 359,-53\"/>\r\n",
       "<text text-anchor=\"middle\" x=\"302.5\" y=\"-37.8\" font-family=\"Times New Roman,serif\" font-size=\"14.00\">samples = 6</text>\r\n",
       "<text text-anchor=\"middle\" x=\"302.5\" y=\"-22.8\" font-family=\"Times New Roman,serif\" font-size=\"14.00\">value = [6, 0]</text>\r\n",
       "<text text-anchor=\"middle\" x=\"302.5\" y=\"-7.8\" font-family=\"Times New Roman,serif\" font-size=\"14.00\">class = malignant</text>\r\n",
       "</g>\r\n",
       "<!-- 5&#45;&gt;6 -->\r\n",
       "<g id=\"edge6\" class=\"edge\"><title>5&#45;&gt;6</title>\r\n",
       "<path fill=\"none\" stroke=\"black\" d=\"M356.471,-88.9485C348.516,-79.892 339.888,-70.0682 331.912,-60.9875\"/>\r\n",
       "<polygon fill=\"black\" stroke=\"black\" points=\"334.334,-58.4405 325.105,-53.2367 329.074,-63.0599 334.334,-58.4405\"/>\r\n",
       "</g>\r\n",
       "<!-- 7 -->\r\n",
       "<g id=\"node8\" class=\"node\"><title>7</title>\r\n",
       "<polygon fill=\"#399de5\" fill-opacity=\"0.909804\" stroke=\"black\" points=\"475.5,-53 377.5,-53 377.5,-0 475.5,-0 475.5,-53\"/>\r\n",
       "<text text-anchor=\"middle\" x=\"426.5\" y=\"-37.8\" font-family=\"Times New Roman,serif\" font-size=\"14.00\">samples = 12</text>\r\n",
       "<text text-anchor=\"middle\" x=\"426.5\" y=\"-22.8\" font-family=\"Times New Roman,serif\" font-size=\"14.00\">value = [1, 11]</text>\r\n",
       "<text text-anchor=\"middle\" x=\"426.5\" y=\"-7.8\" font-family=\"Times New Roman,serif\" font-size=\"14.00\">class = benign</text>\r\n",
       "</g>\r\n",
       "<!-- 5&#45;&gt;7 -->\r\n",
       "<g id=\"edge7\" class=\"edge\"><title>5&#45;&gt;7</title>\r\n",
       "<path fill=\"none\" stroke=\"black\" d=\"M399.84,-88.9485C403.531,-80.4408 407.516,-71.2562 411.251,-62.6464\"/>\r\n",
       "<polygon fill=\"black\" stroke=\"black\" points=\"414.564,-63.8036 415.334,-53.2367 408.143,-61.0174 414.564,-63.8036\"/>\r\n",
       "</g>\r\n",
       "<!-- 9 -->\r\n",
       "<g id=\"node10\" class=\"node\"><title>9</title>\r\n",
       "<polygon fill=\"#e58139\" fill-opacity=\"0.819608\" stroke=\"black\" points=\"669,-157 500,-157 500,-89 669,-89 669,-157\"/>\r\n",
       "<text text-anchor=\"middle\" x=\"584.5\" y=\"-141.8\" font-family=\"Times New Roman,serif\" font-size=\"14.00\">perimeter_worst &lt;= 121.65</text>\r\n",
       "<text text-anchor=\"middle\" x=\"584.5\" y=\"-126.8\" font-family=\"Times New Roman,serif\" font-size=\"14.00\">samples = 13</text>\r\n",
       "<text text-anchor=\"middle\" x=\"584.5\" y=\"-111.8\" font-family=\"Times New Roman,serif\" font-size=\"14.00\">value = [11, 2]</text>\r\n",
       "<text text-anchor=\"middle\" x=\"584.5\" y=\"-96.8\" font-family=\"Times New Roman,serif\" font-size=\"14.00\">class = malignant</text>\r\n",
       "</g>\r\n",
       "<!-- 8&#45;&gt;9 -->\r\n",
       "<g id=\"edge9\" class=\"edge\"><title>8&#45;&gt;9</title>\r\n",
       "<path fill=\"none\" stroke=\"black\" d=\"M584.5,-192.884C584.5,-184.778 584.5,-175.982 584.5,-167.472\"/>\r\n",
       "<polygon fill=\"black\" stroke=\"black\" points=\"588,-167.299 584.5,-157.299 581,-167.299 588,-167.299\"/>\r\n",
       "</g>\r\n",
       "<!-- 12 -->\r\n",
       "<g id=\"node13\" class=\"node\"><title>12</title>\r\n",
       "<polygon fill=\"#399de5\" fill-opacity=\"0.941176\" stroke=\"black\" points=\"872,-157 721,-157 721,-89 872,-89 872,-157\"/>\r\n",
       "<text text-anchor=\"middle\" x=\"796.5\" y=\"-141.8\" font-family=\"Times New Roman,serif\" font-size=\"14.00\">radius_worst &lt;= 14.855</text>\r\n",
       "<text text-anchor=\"middle\" x=\"796.5\" y=\"-126.8\" font-family=\"Times New Roman,serif\" font-size=\"14.00\">samples = 162</text>\r\n",
       "<text text-anchor=\"middle\" x=\"796.5\" y=\"-111.8\" font-family=\"Times New Roman,serif\" font-size=\"14.00\">value = [9, 153]</text>\r\n",
       "<text text-anchor=\"middle\" x=\"796.5\" y=\"-96.8\" font-family=\"Times New Roman,serif\" font-size=\"14.00\">class = benign</text>\r\n",
       "</g>\r\n",
       "<!-- 8&#45;&gt;12 -->\r\n",
       "<g id=\"edge12\" class=\"edge\"><title>8&#45;&gt;12</title>\r\n",
       "<path fill=\"none\" stroke=\"black\" d=\"M653.33,-192.884C674.171,-182.856 697.207,-171.773 718.597,-161.482\"/>\r\n",
       "<polygon fill=\"black\" stroke=\"black\" points=\"720.159,-164.614 727.653,-157.125 717.124,-158.306 720.159,-164.614\"/>\r\n",
       "</g>\r\n",
       "<!-- 10 -->\r\n",
       "<g id=\"node11\" class=\"node\"><title>10</title>\r\n",
       "<polygon fill=\"#e58139\" stroke=\"black\" points=\"607,-53 494,-53 494,-0 607,-0 607,-53\"/>\r\n",
       "<text text-anchor=\"middle\" x=\"550.5\" y=\"-37.8\" font-family=\"Times New Roman,serif\" font-size=\"14.00\">samples = 11</text>\r\n",
       "<text text-anchor=\"middle\" x=\"550.5\" y=\"-22.8\" font-family=\"Times New Roman,serif\" font-size=\"14.00\">value = [11, 0]</text>\r\n",
       "<text text-anchor=\"middle\" x=\"550.5\" y=\"-7.8\" font-family=\"Times New Roman,serif\" font-size=\"14.00\">class = malignant</text>\r\n",
       "</g>\r\n",
       "<!-- 9&#45;&gt;10 -->\r\n",
       "<g id=\"edge10\" class=\"edge\"><title>9&#45;&gt;10</title>\r\n",
       "<path fill=\"none\" stroke=\"black\" d=\"M572.608,-88.9485C569.547,-80.4408 566.243,-71.2562 563.145,-62.6464\"/>\r\n",
       "<polygon fill=\"black\" stroke=\"black\" points=\"566.439,-61.4613 559.76,-53.2367 559.852,-63.8311 566.439,-61.4613\"/>\r\n",
       "</g>\r\n",
       "<!-- 11 -->\r\n",
       "<g id=\"node12\" class=\"node\"><title>11</title>\r\n",
       "<polygon fill=\"#399de5\" stroke=\"black\" points=\"722,-53 625,-53 625,-0 722,-0 722,-53\"/>\r\n",
       "<text text-anchor=\"middle\" x=\"673.5\" y=\"-37.8\" font-family=\"Times New Roman,serif\" font-size=\"14.00\">samples = 2</text>\r\n",
       "<text text-anchor=\"middle\" x=\"673.5\" y=\"-22.8\" font-family=\"Times New Roman,serif\" font-size=\"14.00\">value = [0, 2]</text>\r\n",
       "<text text-anchor=\"middle\" x=\"673.5\" y=\"-7.8\" font-family=\"Times New Roman,serif\" font-size=\"14.00\">class = benign</text>\r\n",
       "</g>\r\n",
       "<!-- 9&#45;&gt;11 -->\r\n",
       "<g id=\"edge11\" class=\"edge\"><title>9&#45;&gt;11</title>\r\n",
       "<path fill=\"none\" stroke=\"black\" d=\"M615.628,-88.9485C624.243,-79.8005 633.596,-69.8697 642.22,-60.7126\"/>\r\n",
       "<polygon fill=\"black\" stroke=\"black\" points=\"644.953,-62.9161 649.261,-53.2367 639.857,-58.1168 644.953,-62.9161\"/>\r\n",
       "</g>\r\n",
       "<!-- 13 -->\r\n",
       "<g id=\"node14\" class=\"node\"><title>13</title>\r\n",
       "<polygon fill=\"#e58139\" fill-opacity=\"0.400000\" stroke=\"black\" points=\"853,-53 740,-53 740,-0 853,-0 853,-53\"/>\r\n",
       "<text text-anchor=\"middle\" x=\"796.5\" y=\"-37.8\" font-family=\"Times New Roman,serif\" font-size=\"14.00\">samples = 8</text>\r\n",
       "<text text-anchor=\"middle\" x=\"796.5\" y=\"-22.8\" font-family=\"Times New Roman,serif\" font-size=\"14.00\">value = [5, 3]</text>\r\n",
       "<text text-anchor=\"middle\" x=\"796.5\" y=\"-7.8\" font-family=\"Times New Roman,serif\" font-size=\"14.00\">class = malignant</text>\r\n",
       "</g>\r\n",
       "<!-- 12&#45;&gt;13 -->\r\n",
       "<g id=\"edge13\" class=\"edge\"><title>12&#45;&gt;13</title>\r\n",
       "<path fill=\"none\" stroke=\"black\" d=\"M796.5,-88.9485C796.5,-80.7153 796.5,-71.848 796.5,-63.4814\"/>\r\n",
       "<polygon fill=\"black\" stroke=\"black\" points=\"800,-63.2367 796.5,-53.2367 793,-63.2367 800,-63.2367\"/>\r\n",
       "</g>\r\n",
       "<!-- 14 -->\r\n",
       "<g id=\"node15\" class=\"node\"><title>14</title>\r\n",
       "<polygon fill=\"#399de5\" fill-opacity=\"0.972549\" stroke=\"black\" points=\"975.5,-53 871.5,-53 871.5,-0 975.5,-0 975.5,-53\"/>\r\n",
       "<text text-anchor=\"middle\" x=\"923.5\" y=\"-37.8\" font-family=\"Times New Roman,serif\" font-size=\"14.00\">samples = 154</text>\r\n",
       "<text text-anchor=\"middle\" x=\"923.5\" y=\"-22.8\" font-family=\"Times New Roman,serif\" font-size=\"14.00\">value = [4, 150]</text>\r\n",
       "<text text-anchor=\"middle\" x=\"923.5\" y=\"-7.8\" font-family=\"Times New Roman,serif\" font-size=\"14.00\">class = benign</text>\r\n",
       "</g>\r\n",
       "<!-- 12&#45;&gt;14 -->\r\n",
       "<g id=\"edge14\" class=\"edge\"><title>12&#45;&gt;14</title>\r\n",
       "<path fill=\"none\" stroke=\"black\" d=\"M840.918,-88.9485C853.827,-79.3431 867.896,-68.8747 880.703,-59.345\"/>\r\n",
       "<polygon fill=\"black\" stroke=\"black\" points=\"882.979,-62.0143 888.912,-53.2367 878.8,-56.3984 882.979,-62.0143\"/>\r\n",
       "</g>\r\n",
       "</g>\r\n",
       "</svg>\r\n"
      ],
      "text/plain": [
       "<graphviz.files.Source at 0x18ed4c0a908>"
      ]
     },
     "execution_count": 17,
     "metadata": {},
     "output_type": "execute_result"
    }
   ],
   "source": [
    "from sklearn.tree import export_graphviz\n",
    "export_graphviz(decision_tree_max_depth3, out_file=\"tree.dot\", class_names=[\"malignant\", \"benign\"], feature_names=X.columns, impurity=False, filled=True)\n",
    "\n",
    "\n",
    "import graphviz\n",
    "import os\n",
    "os.environ[\"PATH\"] += os.pathsep + 'C:/Program Files (x86)/Graphviz2.38/bin/'\n",
    "with open(\"tree.dot\") as f:\n",
    "    dot_graph = f.read()\n",
    "graphviz.Source(dot_graph)"
   ]
  },
  {
   "cell_type": "markdown",
   "metadata": {},
   "source": [
    "The visualization of the tree allows for an intuitive interpretation on how the algorithm classifies its data.<p>"
   ]
  },
  {
   "cell_type": "markdown",
   "metadata": {},
   "source": [
    "<div class=\"alert alert-block alert-success\">**Start Activity 4**</div>"
   ]
  },
  {
   "cell_type": "markdown",
   "metadata": {},
   "source": [
    "### <font color='blue'> Question 2: Did we improve our accuracy / precision-recall? Why? </font>"
   ]
  },
  {
   "cell_type": "markdown",
   "metadata": {},
   "source": [
    "<b> Write your answer here:</b>\n",
    "#####################################################################################################################\n",
    "\n",
    "We did improve our accuracy, precision and recall.\n",
    "Why? Because by restricting the depth of the 3, we avoid overfitting. That is, the model doesn't overfit to the training set. It generalizes better. \n",
    "\n",
    "\n",
    "#####################################################################################################################"
   ]
  },
  {
   "cell_type": "markdown",
   "metadata": {},
   "source": [
    "<div class=\"alert alert-block alert-warning\">**End Activity 4**</div>"
   ]
  },
  {
   "cell_type": "markdown",
   "metadata": {},
   "source": [
    "### 3.4.2. Feature importance\n",
    "There are some useful properties that we can derive to summarise the workings of the tree. A common example is *feature importance*, which as its name suggests, numerically rates the importance each feature plays in the decision making process of the tree. It is a number between 0 and 1, with the sum of all feature importances equalling to 1."
   ]
  },
  {
   "cell_type": "code",
   "execution_count": 18,
   "metadata": {},
   "outputs": [
    {
     "name": "stdout",
     "output_type": "stream",
     "text": [
      "Feature importances:\n",
      "[0.         0.03459908 0.         0.         0.         0.\n",
      " 0.         0.76764803 0.         0.         0.         0.\n",
      " 0.         0.0132556  0.         0.         0.         0.\n",
      " 0.         0.         0.08964598 0.         0.01742052 0.\n",
      " 0.         0.         0.0774308  0.         0.         0.        ]\n"
     ]
    }
   ],
   "source": [
    "print(\"Feature importances:\\n{}\".format(decision_tree_max_depth3.feature_importances_))"
   ]
  },
  {
   "cell_type": "code",
   "execution_count": 19,
   "metadata": {},
   "outputs": [],
   "source": [
    "import matplotlib.pyplot as plt"
   ]
  },
  {
   "cell_type": "code",
   "execution_count": 20,
   "metadata": {},
   "outputs": [],
   "source": [
    "def plot_feature_importances(model):\n",
    "    n_features = X.shape[1]\n",
    "    plt.barh(range(n_features), model.feature_importances_, align='center') \n",
    "    plt.yticks(np.arange(n_features), X.columns) \n",
    "    plt.xlabel(\"Feature importance\")\n",
    "    plt.ylabel(\"Feature\")"
   ]
  },
  {
   "cell_type": "code",
   "execution_count": 21,
   "metadata": {
    "scrolled": true
   },
   "outputs": [
    {
     "data": {
      "image/png": "[encoded data removed]",
      "text/plain": [
       "<matplotlib.figure.Figure at 0x18ed95bc0b8>"
      ]
     },
     "metadata": {
      "needs_background": "light"
     },
     "output_type": "display_data"
    }
   ],
   "source": [
    "plot_feature_importances(decision_tree_max_depth3)"
   ]
  },
  {
   "cell_type": "markdown",
   "metadata": {},
   "source": [
    "This is not an effective visualization, as we have so many features. The solution is to remove all features that are of very low importance. We will only select the features whose feature importance is greater than 0.01."
   ]
  },
  {
   "cell_type": "code",
   "execution_count": 22,
   "metadata": {},
   "outputs": [],
   "source": [
    "def plot_feature_importances(model):\n",
    "    \n",
    "    #locate indices of the features with feature importance greater than 0.01\n",
    "    indices = np.where(model.feature_importances_ > 0.01)[0]\n",
    "    \n",
    "    #extract the number of features that have non-zero feature importance\n",
    "    n_features = X.iloc[:,indices].shape[1]\n",
    "    \n",
    "    #plot the features that have a non-zero feature importance\n",
    "    plt.barh(range(n_features), model.feature_importances_[indices], align='center') \n",
    "    plt.yticks(np.arange(n_features), X.iloc[:,indices].columns) \n",
    "    plt.xlabel(\"Feature importance\")\n",
    "    plt.ylabel(\"Feature\")"
   ]
  },
  {
   "cell_type": "code",
   "execution_count": 23,
   "metadata": {},
   "outputs": [
    {
     "data": {
      "image/png": "[encoded data removed]",
      "text/plain": [
       "<matplotlib.figure.Figure at 0x18ed96d85f8>"
      ]
     },
     "metadata": {
      "needs_background": "light"
     },
     "output_type": "display_data"
    }
   ],
   "source": [
    "plot_feature_importances(decision_tree_max_depth3)"
   ]
  },
  {
   "cell_type": "markdown",
   "metadata": {},
   "source": [
    "From the IMLP textbook: **\"... if a feature has a low feature_importance, it doesn’t mean that this feature is uninformative. It only means that the feature was not picked by the tree, likely because another feature encodes the same information.\"**"
   ]
  },
  {
   "cell_type": "markdown",
   "metadata": {},
   "source": [
    "## 3.5. Advantages/disadvantages of decision trees\n",
    "**Advantages**:\n",
    "* Easy interpretation and visualization of decision rules. Particularly to non-experts.\n",
    "* Very fast to train, and then predict.\n",
    "* Invariant to scaling of the data. This removes the need for preprocessing such as the standardisation that was needed for the regularized logistic models.\n",
    "* Are able to predict non-linear data.\n",
    "* Can be used to determine feature importance.\n",
    "* Further, provides automatic feature selection by only choosing the important features by which the data are split. This further reduces the need for preprocessing.\n",
    "* Provides probability estimates. <p>\n",
    "\n",
    "**Disadvantages**:\n",
    "* Tendency to overfit, even after pruning methods.\n",
    "* Often outperformed by other models, including the ensemble methods utilising the basic decision tree, which we will discuss now."
   ]
  },
  {
   "cell_type": "markdown",
   "metadata": {},
   "source": [
    "# 4. Gradient Boosted Decision Trees\n",
    "Gradient Boosted Descision Trees are an *ensemble* of decision trees. *Ensemble* is a general term referring to methods that combine multiple machine learning models to create a more powerful model. There are two widely used ensembles based on decision trees: *Gradient Boosted Decision Trees*, and *Random Forests*. Here, we will introduce Gradient Boosted Decision Trees, and deal with Random Forests during this chapter's assessment.<p>\n",
    "\n",
    "Gradient boosting works by building a large number of trees where each tree tries to correct the mistakes of the previous one. The way this is achieved is by fitting each subsequent tree on a modified version of the original dataset, depending on how the previous trees performed. Given the current model, we fit a decision tree to the residuals (the unexplained variation) from the model. That is, we fit a new tree using the current residuals, rather than the whole response Y, as the response. We then add this new decision tree into the fitted function in order to update the residuals.<p> "
   ]
  },
  {
   "cell_type": "markdown",
   "metadata": {},
   "source": [
    "Readings and videos:\n",
    "1. Scikit-learn API: https://scikit-learn.org/stable/modules/generated/sklearn.ensemble.GradientBoostingClassifier.html\n",
    "2. Video 1: Regression https://www.youtube.com/watch?v=3CC4N4z3GJc\n",
    "3. Video 2: Classification https://www.youtube.com/watch?v=jxuNLH5dXCs"
   ]
  },
  {
   "cell_type": "code",
   "execution_count": 24,
   "metadata": {},
   "outputs": [
    {
     "name": "stdout",
     "output_type": "stream",
     "text": [
      "Cancer (original y_train):  [['M' 'M' 'B' 'B' 'B' 'B' 'M' 'M' 'B' 'B']]\n",
      "y_train after binary conversion:  [0, 0, 1, 1, 1, 1, 0, 0, 1, 1]\n"
     ]
    }
   ],
   "source": [
    "y_train_binary = [0 if x =='M' else 1 for x in y_train]\n",
    "\n",
    "# Sanity Check\n",
    "print('Cancer (original y_train): ', y_train[35:45].reshape(1,-1))\n",
    "print('y_train after binary conversion: ', y_train_binary[35:45])"
   ]
  },
  {
   "cell_type": "code",
   "execution_count": 25,
   "metadata": {},
   "outputs": [
    {
     "name": "stdout",
     "output_type": "stream",
     "text": [
      "Cancer (original y_train):  [['B' 'B' 'B' 'B' 'M' 'B' 'B' 'M' 'M' 'B']]\n",
      "y_train after binary conversion:  [1, 1, 1, 1, 0, 1, 1, 0, 0, 1]\n"
     ]
    }
   ],
   "source": [
    "y_test_binary = [0 if x =='M' else 1 for x in y_test]\n",
    "\n",
    "# Sanity Check\n",
    "print('Cancer (original y_train): ', y_test[35:45].reshape(1,-1))\n",
    "print('y_train after binary conversion: ', y_test_binary[35:45])"
   ]
  },
  {
   "cell_type": "markdown",
   "metadata": {},
   "source": [
    "We are going to create the 'gbt' object *that encapsulates the algorithm that will be used to build the model from\n",
    "the training data, as well the algorithm to make predictions on new data points. It will\n",
    "also hold the information that the algorithm has extracted from the training data* (source: Book 1, Chapter 1). "
   ]
  },
  {
   "cell_type": "code",
   "execution_count": 26,
   "metadata": {},
   "outputs": [],
   "source": [
    "from sklearn.ensemble import RandomForestClassifier"
   ]
  },
  {
   "cell_type": "code",
   "execution_count": 27,
   "metadata": {},
   "outputs": [],
   "source": [
    "gbt = GradientBoostingClassifier(random_state=0)"
   ]
  },
  {
   "cell_type": "markdown",
   "metadata": {},
   "source": [
    "*To build the model on the training set, we call the fit method of the knn object* (source: Book 1, Chapter 1)"
   ]
  },
  {
   "cell_type": "code",
   "execution_count": 28,
   "metadata": {},
   "outputs": [
    {
     "data": {
      "text/plain": [
       "GradientBoostingClassifier(criterion='friedman_mse', init=None,\n",
       "              learning_rate=0.1, loss='deviance', max_depth=3,\n",
       "              max_features=None, max_leaf_nodes=None,\n",
       "              min_impurity_decrease=0.0, min_impurity_split=None,\n",
       "              min_samples_leaf=1, min_samples_split=2,\n",
       "              min_weight_fraction_leaf=0.0, n_estimators=100,\n",
       "              presort='auto', random_state=0, subsample=1.0, verbose=0,\n",
       "              warm_start=False)"
      ]
     },
     "execution_count": 28,
     "metadata": {},
     "output_type": "execute_result"
    }
   ],
   "source": [
    "gbt.fit(X_train, y_train_binary)"
   ]
  },
  {
   "cell_type": "markdown",
   "metadata": {},
   "source": [
    "*The fit method returns the knn object itself (and modifies it in place), so we get a\n",
    "string representation of our classifier. The representation shows us which parameters\n",
    "were used in creating the model. Nearly all of them are the default values, but you can\n",
    "also find* random_state=0, *which is the* hyper-parameter *that we passed. Most models in\n",
    "scikit-learn have many parameters, but the majority of them are either speed optimizations\n",
    "or for very special use cases.* (source: Book1, Chapter 1)."
   ]
  },
  {
   "cell_type": "markdown",
   "metadata": {},
   "source": [
    "Let's calculate accuracy for the training and test set:"
   ]
  },
  {
   "cell_type": "code",
   "execution_count": 29,
   "metadata": {},
   "outputs": [
    {
     "name": "stdout",
     "output_type": "stream",
     "text": [
      "Accuracy on training set: 1.000\n",
      "Accuracy on test set: 0.965\n"
     ]
    }
   ],
   "source": [
    "print(\"Accuracy on training set: {:.3f}\".format(gbt.score(X_train, y_train_binary)))\n",
    "print(\"Accuracy on test set: {:.3f}\".format(gbt.score(X_test, y_test_binary)))"
   ]
  },
  {
   "cell_type": "code",
   "execution_count": 30,
   "metadata": {},
   "outputs": [
    {
     "name": "stdout",
     "output_type": "stream",
     "text": [
      "Confusion matrix:\n",
      "\n",
      "[[40  2]\n",
      " [ 2 70]]\n"
     ]
    }
   ],
   "source": [
    "y_pred_gbt = gbt.predict(X_test)\n",
    "\n",
    "from sklearn.metrics import confusion_matrix\n",
    "\n",
    "print('Confusion matrix:')\n",
    "print('')\n",
    "cm_gbt = confusion_matrix(y_true = y_test_binary, y_pred = y_pred_gbt)\n",
    "print(cm_gbt)\n"
   ]
  },
  {
   "cell_type": "markdown",
   "metadata": {},
   "source": [
    "Interpretation of the confusion matrix:\n",
    "\n",
    "![alt text](images/Confusion_matrix.PNG)"
   ]
  },
  {
   "cell_type": "code",
   "execution_count": 31,
   "metadata": {},
   "outputs": [
    {
     "name": "stdout",
     "output_type": "stream",
     "text": [
      "             precision    recall  f1-score   support\n",
      "\n",
      "          B       0.99      0.94      0.96        72\n",
      "          M       0.91      0.98      0.94        42\n",
      "\n",
      "avg / total       0.96      0.96      0.96       114\n",
      "\n"
     ]
    }
   ],
   "source": [
    "from sklearn.metrics import classification_report\n",
    "print(classification_report(y_test, y_pred_max_depth3))"
   ]
  },
  {
   "cell_type": "markdown",
   "metadata": {},
   "source": [
    "## 4.1. Parameters\n",
    "In terms of parameters, we have the previous ones such as **depth of the tree**, **maximum number of leaves**, and **minimum splitting size**. However,  there is **no parameter for 'class_weight'** in gradient boosting trees for sklearn.  <p> \n",
    "    We also have two new parameters:\n",
    "* n_estimators, the number of trees in the ensemble. Increasing n_estimators in gradient boosting leads to a more complex model, which may lead to overfitting\n",
    "* Learning_rate. The learning rate controls how strongly each tree tries to correct the mistakes of the previous trees. Learning_rate is a decimal number between 0 and 1, with low values indicating slow learning and higher values indicating fast learning.\n",
    "\n",
    "Ideally, we would like to tune the three most important parameters: n_estimator, max_depth, and learning_rate. However, as we are restrained by both time and computational power, we will restrict ourselves to tuning only the learning_rate. For max_depth, it is standard practice to limit the ensemble to quite shallow trees, so we we will choose max_depth = 3. The parameters n_estimator and learning_rate are highly interconnected, as a lower learning_rate means that more trees are needed to build a model of similar complexity. Using this knowledge, we will choose a value of n_estimators that is feasible given our time and computational power constraints, and then find the best learning_rate given this value of n_estimators.\n",
    "\n"
   ]
  },
  {
   "cell_type": "markdown",
   "metadata": {},
   "source": [
    "## 4.2. Grid search\n",
    "Here, we will attempt to find the parameters that maximise the f1 score, macro averaged. Remember, when using cross-validation and grid search it is good practice to reserve the test set until **after** we finish selecting parameters. "
   ]
  },
  {
   "cell_type": "code",
   "execution_count": 32,
   "metadata": {},
   "outputs": [],
   "source": [
    "gbt_gridsearch = GradientBoostingClassifier(random_state=0)"
   ]
  },
  {
   "cell_type": "markdown",
   "metadata": {},
   "source": [
    "### 4.2.1. First search"
   ]
  },
  {
   "cell_type": "code",
   "execution_count": 33,
   "metadata": {},
   "outputs": [],
   "source": [
    "param_grid = {'n_estimators': [15, 25, 50, 100],\n",
    "              'learning_rate': [0.01, 0.05, 0.1, 0.2, 0.3, 0.4]}"
   ]
  },
  {
   "cell_type": "markdown",
   "metadata": {},
   "source": [
    "Now initialise the GridSearchCV class by passing it the gradient boosted tree we have created, *gbt*, our paramater grid, *param_grid*, and specifying how many folds we would like. We must consider the computational complexity of the algorithm, so we can't set cv too high. We choose 5 folds. We also specify scoring = 'f1' to designate that we would like to use the F1 measure with an unweighted average of the classes."
   ]
  },
  {
   "cell_type": "code",
   "execution_count": 34,
   "metadata": {},
   "outputs": [],
   "source": [
    "from sklearn.model_selection import GridSearchCV\n",
    "grid_search = GridSearchCV(gbt_gridsearch, param_grid=param_grid, cv=5, scoring = 'f1')"
   ]
  },
  {
   "cell_type": "markdown",
   "metadata": {},
   "source": [
    "We fit the grid search. *Fitting the GridSearchCV object not only searches for the best parameters, but also\n",
    "automatically fits a new model on the whole training dataset with the parameters that\n",
    "yielded the best cross-validation performance* (source: Book 1, Chapter 5). "
   ]
  },
  {
   "cell_type": "code",
   "execution_count": 35,
   "metadata": {},
   "outputs": [
    {
     "data": {
      "text/plain": [
       "GridSearchCV(cv=5, error_score='raise',\n",
       "       estimator=GradientBoostingClassifier(criterion='friedman_mse', init=None,\n",
       "              learning_rate=0.1, loss='deviance', max_depth=3,\n",
       "              max_features=None, max_leaf_nodes=None,\n",
       "              min_impurity_decrease=0.0, min_impurity_split=None,\n",
       "              min_samples_leaf=1, min_samples_split=2,\n",
       "              min_weight_fraction_leaf=0.0, n_estimators=100,\n",
       "              presort='auto', random_state=0, subsample=1.0, verbose=0,\n",
       "              warm_start=False),\n",
       "       fit_params=None, iid=True, n_jobs=1,\n",
       "       param_grid={'n_estimators': [15, 25, 50, 100], 'learning_rate': [0.01, 0.05, 0.1, 0.2, 0.3, 0.4]},\n",
       "       pre_dispatch='2*n_jobs', refit=True, return_train_score='warn',\n",
       "       scoring='f1', verbose=0)"
      ]
     },
     "execution_count": 35,
     "metadata": {},
     "output_type": "execute_result"
    }
   ],
   "source": [
    "grid_search.fit(X_train, y_train_binary)"
   ]
  },
  {
   "cell_type": "markdown",
   "metadata": {},
   "source": [
    "*The important thing here is that we did not use the test set to choose the parameters. The parameters that were found are scored in the best_params_ attribute, and the best cross-validation accuracy (the mean accuracy\n",
    "over the different splits for this parameter setting) is stored in best_score_:* (source: Book 1, Chapter 5)"
   ]
  },
  {
   "cell_type": "code",
   "execution_count": 36,
   "metadata": {},
   "outputs": [
    {
     "name": "stdout",
     "output_type": "stream",
     "text": [
      "Best parameters: {'learning_rate': 0.2, 'n_estimators': 50}\n",
      "Best cross-validation average f1 score: 0.97\n"
     ]
    }
   ],
   "source": [
    "print(\"Best parameters: {}\".format(grid_search.best_params_))\n",
    "print(\"Best cross-validation average f1 score: {:.2f}\".format(grid_search.best_score_))"
   ]
  },
  {
   "cell_type": "markdown",
   "metadata": {},
   "source": [
    "*Again, be careful not to confuse best_score_ with the generalization\n",
    "performance of the model as computed by the score method\n",
    "on the test set. Using the score method (or evaluating the output of\n",
    "the predict method) employs a model trained on the whole training\n",
    "set. The best_score_ attribute stores the mean cross-validation\n",
    "accuracy, with cross-validation performed on the training set.* (source: Book 1, Chapter 5)"
   ]
  },
  {
   "cell_type": "markdown",
   "metadata": {},
   "source": [
    "The procedure \".score()\" will display F1 score of the positive class as we changed the \"scoring='f1'\" in the GridSearchCV function."
   ]
  },
  {
   "cell_type": "code",
   "execution_count": 37,
   "metadata": {},
   "outputs": [
    {
     "name": "stdout",
     "output_type": "stream",
     "text": [
      "Test set F1: 0.97\n"
     ]
    }
   ],
   "source": [
    "print(\"Test set F1: {:.2f}\".format(grid_search.score(X_test, y_test_binary)))"
   ]
  },
  {
   "cell_type": "markdown",
   "metadata": {},
   "source": [
    "In this case, in order to print accuracy,"
   ]
  },
  {
   "cell_type": "code",
   "execution_count": 38,
   "metadata": {},
   "outputs": [
    {
     "name": "stdout",
     "output_type": "stream",
     "text": [
      "Accuracy on training set: 1.00\n",
      "Accuracy on test set: 0.96\n"
     ]
    }
   ],
   "source": [
    "# Let's predict in the training set, in order to calculate accuracy in the train set too, to see if our model is overfitted.\n",
    "y_pred_grid_search_training_set= grid_search.predict(X_train)\n",
    "\n",
    "# We predict in the test set\n",
    "y_pred_grid_search = grid_search.predict(X_test)\n",
    "\n",
    "\n",
    "from sklearn.metrics import accuracy_score\n",
    "print(\"Accuracy on training set: {:.2f}\".format(accuracy_score(y_train_binary, y_pred_grid_search_training_set)))\n",
    "print(\"Accuracy on test set: {:.2f}\".format(accuracy_score(y_test_binary, y_pred_grid_search)))"
   ]
  },
  {
   "cell_type": "code",
   "execution_count": 39,
   "metadata": {},
   "outputs": [
    {
     "name": "stdout",
     "output_type": "stream",
     "text": [
      "[[40  2]\n",
      " [ 2 70]]\n"
     ]
    }
   ],
   "source": [
    "cm_grid_search = confusion_matrix(y_true = y_test_binary, y_pred = y_pred_grid_search)\n",
    "print(cm_grid_search)"
   ]
  },
  {
   "cell_type": "markdown",
   "metadata": {},
   "source": [
    "Interpretation of the confusion matrix:\n",
    "\n",
    "![alt text](images/Confusion_matrix.PNG)"
   ]
  },
  {
   "cell_type": "code",
   "execution_count": 40,
   "metadata": {},
   "outputs": [
    {
     "name": "stdout",
     "output_type": "stream",
     "text": [
      "             precision    recall  f1-score   support\n",
      "\n",
      "          0       0.95      0.95      0.95        42\n",
      "          1       0.97      0.97      0.97        72\n",
      "\n",
      "avg / total       0.96      0.96      0.96       114\n",
      "\n"
     ]
    }
   ],
   "source": [
    "from sklearn.metrics import classification_report\n",
    "print(classification_report(y_test_binary, y_pred_grid_search))"
   ]
  },
  {
   "cell_type": "markdown",
   "metadata": {},
   "source": [
    "### 4.2.2. Second search"
   ]
  },
  {
   "cell_type": "markdown",
   "metadata": {},
   "source": [
    "<div class=\"alert alert-block alert-success\">**Start Activity**</div>"
   ]
  },
  {
   "cell_type": "markdown",
   "metadata": {},
   "source": [
    "### <font color='blue'> Question 3: Define a second search with different values close to the optimal learning rate value found  in the previous section</font>"
   ]
  },
  {
   "cell_type": "markdown",
   "metadata": {},
   "source": [
    "The optimal value was 0.2. Thus, we define values in the vecinity of 0.2, just to test if we can find some learning rate that performs better. We set the number of estimators to 50, as it is the best value found before."
   ]
  },
  {
   "cell_type": "code",
   "execution_count": 41,
   "metadata": {},
   "outputs": [],
   "source": [
    "# Write Python Code Here:\n",
    "param_grid_in_detail = {'n_estimators': [50],\n",
    "              'learning_rate':  [0.17, 0.18, 0.19, 0.20, 0.21, 0.22, 0.23, 0.24]}"
   ]
  },
  {
   "cell_type": "markdown",
   "metadata": {},
   "source": [
    "### <font color='blue'> Question 4: Define the variable grid_search in which we will do \"GridSearchCV\" with CV=5 and for the f1 score </font>"
   ]
  },
  {
   "cell_type": "code",
   "execution_count": 42,
   "metadata": {},
   "outputs": [],
   "source": [
    "# Write Python Code Here:\n",
    "grid_search_in_detail = GridSearchCV(gbt, param_grid=param_grid_in_detail, cv=5, scoring = 'f1')"
   ]
  },
  {
   "cell_type": "markdown",
   "metadata": {},
   "source": [
    "### <font color='blue'> Question 5: \"Fit\" the models </font>"
   ]
  },
  {
   "cell_type": "code",
   "execution_count": 43,
   "metadata": {},
   "outputs": [
    {
     "data": {
      "text/plain": [
       "GridSearchCV(cv=5, error_score='raise',\n",
       "       estimator=GradientBoostingClassifier(criterion='friedman_mse', init=None,\n",
       "              learning_rate=0.1, loss='deviance', max_depth=3,\n",
       "              max_features=None, max_leaf_nodes=None,\n",
       "              min_impurity_decrease=0.0, min_impurity_split=None,\n",
       "              min_samples_leaf=1, min_samples_split=2,\n",
       "              min_weight_fraction_leaf=0.0, n_estimators=100,\n",
       "              presort='auto', random_state=0, subsample=1.0, verbose=0,\n",
       "              warm_start=False),\n",
       "       fit_params=None, iid=True, n_jobs=1,\n",
       "       param_grid={'n_estimators': [50], 'learning_rate': [0.17, 0.18, 0.19, 0.2, 0.21, 0.22, 0.23, 0.24]},\n",
       "       pre_dispatch='2*n_jobs', refit=True, return_train_score='warn',\n",
       "       scoring='f1', verbose=0)"
      ]
     },
     "execution_count": 43,
     "metadata": {},
     "output_type": "execute_result"
    }
   ],
   "source": [
    "# Write Python Code Here:\n",
    "grid_search_in_detail.fit(X_train, y_train_binary)"
   ]
  },
  {
   "cell_type": "markdown",
   "metadata": {},
   "source": [
    "### <font color='blue'> Question 6: Print the best parameters </font>"
   ]
  },
  {
   "cell_type": "code",
   "execution_count": 44,
   "metadata": {},
   "outputs": [
    {
     "name": "stdout",
     "output_type": "stream",
     "text": [
      "Best parameters: {'learning_rate': 0.22, 'n_estimators': 50}\n",
      "Best cross-validation f1 score: 0.97\n"
     ]
    }
   ],
   "source": [
    "# Write Python Code Here:\n",
    "print(\"Best parameters: {}\".format(grid_search_in_detail.best_params_))\n",
    "print(\"Best cross-validation f1 score: {:.2f}\".format(grid_search_in_detail.best_score_))"
   ]
  },
  {
   "cell_type": "markdown",
   "metadata": {},
   "source": [
    "<div class=\"alert alert-block alert-warning\">**End Activity**</div>"
   ]
  },
  {
   "cell_type": "markdown",
   "metadata": {},
   "source": [
    "## 4.3. Fit and evaluate the gradient boosted tree with our optimal parameters"
   ]
  },
  {
   "cell_type": "markdown",
   "metadata": {},
   "source": [
    "<div class=\"alert alert-block alert-success\">**Start Activity**</div>"
   ]
  },
  {
   "cell_type": "markdown",
   "metadata": {},
   "source": [
    "### <font color='blue'> Question 7: Train the new classifier with the best parameters found above </font>"
   ]
  },
  {
   "cell_type": "markdown",
   "metadata": {},
   "source": [
    "<font color=green>**There is no need to train a new model**</font>\n",
    "\n",
    "From Book 1, Chapter 5 [27]\n",
    "\n",
    "grid_search.fit(X_train, y_train)\n",
    "\n",
    "Fitting the GridSearchCV object not only searches for the best parameters, but also\n",
    "automatically fits a new model on the whole training dataset with the parameters that\n",
    "yielded the best cross-validation performance. What happens in fit is therefore\n",
    "equivalent to the result of the In[21] code we saw at the beginning of this section. The\n",
    "GridSearchCV class provides a very convenient interface to access the retrained\n",
    "model using the predict and score methods. To evaluate how well the best found\n",
    "parameters generalize, we can call score on the test set as follows:\n",
    "\n",
    "Bear in mind, that \"score\" will display F1 (and not accuracy) because we changed it in the GridSearchCV"
   ]
  },
  {
   "cell_type": "code",
   "execution_count": 45,
   "metadata": {},
   "outputs": [
    {
     "name": "stdout",
     "output_type": "stream",
     "text": [
      "Test set F1: 0.97\n"
     ]
    }
   ],
   "source": [
    "# Write Python Code Here:\n",
    "print(\"Test set F1: {:.2f}\".format(grid_search_in_detail.score(X_test, y_test_binary)))"
   ]
  },
  {
   "cell_type": "markdown",
   "metadata": {},
   "source": [
    "### <font color='blue'> Question 8: Compute the confusion matrix </font>"
   ]
  },
  {
   "cell_type": "code",
   "execution_count": 46,
   "metadata": {},
   "outputs": [],
   "source": [
    "y_pred_grid_search_in_detail = grid_search.predict(X_test)"
   ]
  },
  {
   "cell_type": "code",
   "execution_count": 47,
   "metadata": {},
   "outputs": [
    {
     "name": "stdout",
     "output_type": "stream",
     "text": [
      "[[40  2]\n",
      " [ 2 70]]\n"
     ]
    }
   ],
   "source": [
    "# Write Python Code Here:\n",
    "cm_after_grid_search_in_detail = confusion_matrix(y_true = y_test_binary, y_pred = y_pred_grid_search_in_detail)\n",
    "print(cm_after_grid_search_in_detail)"
   ]
  },
  {
   "cell_type": "markdown",
   "metadata": {},
   "source": [
    "Interpretation of the confusion matrix:\n",
    "\n",
    "![alt text](images/Confusion_matrix.PNG)"
   ]
  },
  {
   "cell_type": "markdown",
   "metadata": {},
   "source": [
    "As you can see, the model didn't improve at all after trying to tune several hyper-parameters.\n",
    "Feel free to try new hyper-parameters."
   ]
  },
  {
   "cell_type": "markdown",
   "metadata": {},
   "source": [
    "<div class=\"alert alert-block alert-warning\">**End Activity**</div>"
   ]
  },
  {
   "cell_type": "markdown",
   "metadata": {},
   "source": [
    "## 4.5. Visualising the gradient boosted tree: feature importance"
   ]
  },
  {
   "cell_type": "markdown",
   "metadata": {},
   "source": [
    "Remember: \n",
    "\n",
    "You can access the model with the\n",
    "best parameters trained on the whole training set using the best_estimator_.\n",
    "\n",
    "We know that the best model found by GridSearchCV, **trained on all the training data**, is stored in grid.best_estimator_:\n",
    "\n",
    "print(\"Best estimator:\\n{}\".format(grid.best_estimator_))"
   ]
  },
  {
   "cell_type": "code",
   "execution_count": 48,
   "metadata": {},
   "outputs": [
    {
     "name": "stdout",
     "output_type": "stream",
     "text": [
      "Feature importances:\n",
      "[0.01190109 0.02380929 0.02113526 0.03524929 0.00639824 0.00848526\n",
      " 0.0255891  0.14694115 0.00533382 0.00873461 0.02224127 0.0030714\n",
      " 0.01229124 0.04280546 0.03749906 0.01586783 0.03987218 0.01251106\n",
      " 0.00608089 0.0291222  0.02002098 0.06613647 0.06130402 0.08389637\n",
      " 0.04486139 0.06452455 0.0147959  0.09891181 0.02302268 0.00758614]\n"
     ]
    }
   ],
   "source": [
    "print(\"Feature importances:\\n{}\".format(grid_search_in_detail.best_estimator_.feature_importances_))"
   ]
  },
  {
   "cell_type": "code",
   "execution_count": 49,
   "metadata": {},
   "outputs": [],
   "source": [
    "def plot_feature_importances(model):\n",
    "    n_features = X.shape[1]\n",
    "    plt.barh(range(n_features), model.feature_importances_, align='center') \n",
    "    plt.yticks(np.arange(n_features), X.columns) \n",
    "    plt.xlabel(\"Feature importance\")\n",
    "    plt.ylabel(\"Feature\")"
   ]
  },
  {
   "cell_type": "code",
   "execution_count": 50,
   "metadata": {
    "scrolled": true
   },
   "outputs": [
    {
     "data": {
      "image/png": "[encoded data removed]",
      "text/plain": [
       "<matplotlib.figure.Figure at 0x18ed9853f98>"
      ]
     },
     "metadata": {
      "needs_background": "light"
     },
     "output_type": "display_data"
    }
   ],
   "source": [
    "plot_feature_importances(grid_search_in_detail.best_estimator_)"
   ]
  },
  {
   "cell_type": "markdown",
   "metadata": {},
   "source": [
    "This is not an effective visualization, as we have so many features. The solution is to remove all features that are of very low importance. We will only plot the features with importance of at least 0.02.<p>\n",
    "    Notice that almost all the features have a non-zero importance. This is in contrast to the regular decision tree."
   ]
  },
  {
   "cell_type": "code",
   "execution_count": 51,
   "metadata": {},
   "outputs": [],
   "source": [
    "def plot_feature_importances(model):\n",
    "    \n",
    "    #locate indices of the features with non-zero feature importance\n",
    "    indices = np.where(model.feature_importances_ >= 0.02)[0]\n",
    "    \n",
    "    #extract the number of features that have non-zero feature importance\n",
    "    n_features = X.iloc[:,indices].shape[1]\n",
    "    \n",
    "    #plot the features that have a non-zero feature importance\n",
    "    plt.barh(range(n_features), model.feature_importances_[indices], align='center') \n",
    "    plt.yticks(np.arange(n_features), X.iloc[:,indices].columns) \n",
    "    plt.xlabel(\"Feature importance\")\n",
    "    plt.ylabel(\"Feature\")"
   ]
  },
  {
   "cell_type": "code",
   "execution_count": 52,
   "metadata": {},
   "outputs": [
    {
     "data": {
      "image/png": "[encoded data removed]",
      "text/plain": [
       "<matplotlib.figure.Figure at 0x18ed9853da0>"
      ]
     },
     "metadata": {
      "needs_background": "light"
     },
     "output_type": "display_data"
    }
   ],
   "source": [
    "plot_feature_importances(grid_search_in_detail.best_estimator_)"
   ]
  },
  {
   "cell_type": "markdown",
   "metadata": {},
   "source": [
    "## 4.7. Advantages/disadvantages of gradient boosted trees\n",
    "**Advantages**:\n",
    "* Can be very powerful, provided the parameters are tuned correctly\n",
    "* Build trees one at a time, where each new tree helps to correct errors made by previously trained trees\n",
    "\n",
    "**Disadvantages**:\n",
    "* Requires careful tuning of the parameters\n",
    "* Longer time to train, because trees are built sequentially\n",
    "* Long time to predict\n",
    "* Can be susceptible to overfitting"
   ]
  }
 ],
 "metadata": {
  "kernelspec": {
   "display_name": "Python 3",
   "language": "python",
   "name": "python3"
  },
  "language_info": {
   "codemirror_mode": {
    "name": "ipython",
    "version": 3
   },
   "file_extension": ".py",
   "mimetype": "text/x-python",
   "name": "python",
   "nbconvert_exporter": "python",
   "pygments_lexer": "ipython3",
   "version": "3.6.4"
  }
 },
 "nbformat": 4,
 "nbformat_minor": 2
}
